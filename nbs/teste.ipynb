{
 "cells": [
  {
   "cell_type": "code",
   "execution_count": 1,
   "metadata": {},
   "outputs": [],
   "source": [
    "from typing import Callable, TypeVar, Generic\n",
    "\n",
    "T = TypeVar(\"T\")\n",
    "\n",
    "Subscriber = Callable[[T], None]\n",
    "\n",
    "Unsubscriber = Callable[[], None]\n",
    "\n",
    "class Readable(Generic[T]):\n",
    "    def subscribe(self, subscriber: Subscriber[T]) -> Unsubscriber:\n",
    "        ..."
   ]
  },
  {
   "cell_type": "code",
   "execution_count": 2,
   "metadata": {},
   "outputs": [],
   "source": [
    "subscriber_queue: list[Subscriber] = []"
   ]
  },
  {
   "cell_type": "code",
   "execution_count": 3,
   "metadata": {},
   "outputs": [],
   "source": [
    "def readable(value: T) -> Readable[T]:\n",
    "    \"\"\" Create a readable store with a given value that allows reading by subscription.\"\"\"\n",
    "    subscriber_queue: list[Subscriber] = []\n",
    "    def subscribe(subscriber: Subscriber[T]) -> Unsubscriber:\n",
    "        subscriber_queue.append(subscriber)\n",
    "        subscriber(value)\n",
    "\n",
    "        def unsubscribe() -> None:\n",
    "            subscriber_queue.remove(subscriber)\n",
    "\n",
    "        return unsubscribe\n",
    "    ret = Readable() \n",
    "    ret.subscribe = subscribe\n",
    "    return  ret "
   ]
  },
  {
   "cell_type": "code",
   "execution_count": 4,
   "metadata": {},
   "outputs": [],
   "source": [
    "user = readable({\"name\": \"John\", \"age\": 42})"
   ]
  },
  {
   "cell_type": "code",
   "execution_count": 5,
   "metadata": {},
   "outputs": [
    {
     "ename": "TypeError",
     "evalue": "'Readable' object is not subscriptable",
     "output_type": "error",
     "traceback": [
      "\u001b[0;31m---------------------------------------------------------------------------\u001b[0m",
      "\u001b[0;31mTypeError\u001b[0m                                 Traceback (most recent call last)",
      "Cell \u001b[0;32mIn[5], line 1\u001b[0m\n\u001b[0;32m----> 1\u001b[0m user[\u001b[39m'\u001b[39;49m\u001b[39mname\u001b[39;49m\u001b[39m'\u001b[39;49m]\n",
      "\u001b[0;31mTypeError\u001b[0m: 'Readable' object is not subscriptable"
     ]
    }
   ],
   "source": [
    "user['name']"
   ]
  },
  {
   "cell_type": "code",
   "execution_count": null,
   "metadata": {},
   "outputs": [],
   "source": [
    "user = {\"name\": \"John\", \"age\": 42}\n",
    "store = readable(user)\n",
    "user['name']"
   ]
  },
  {
   "cell_type": "code",
   "execution_count": null,
   "metadata": {},
   "outputs": [],
   "source": [
    "store['name']"
   ]
  },
  {
   "cell_type": "code",
   "execution_count": null,
   "metadata": {},
   "outputs": [],
   "source": []
  }
 ],
 "metadata": {
  "kernelspec": {
   "display_name": "nbdev-test",
   "language": "python",
   "name": "python3"
  },
  "language_info": {
   "codemirror_mode": {
    "name": "ipython",
    "version": 3
   },
   "file_extension": ".py",
   "mimetype": "text/x-python",
   "name": "python",
   "nbconvert_exporter": "python",
   "pygments_lexer": "ipython3",
   "version": "3.9.16"
  },
  "orig_nbformat": 4
 },
 "nbformat": 4,
 "nbformat_minor": 2
}
