{
 "cells": [
  {
   "cell_type": "code",
   "execution_count": 1,
   "metadata": {},
   "outputs": [],
   "source": [
    "from miniai_playground.store import *"
   ]
  },
  {
   "cell_type": "code",
   "execution_count": 2,
   "metadata": {},
   "outputs": [
    {
     "name": "stdout",
     "output_type": "stream",
     "text": [
      "log one: 1\n"
     ]
    }
   ],
   "source": [
    "one = writable(1)\n",
    "u = one.subscribe(lambda x: print(\"log one:\", x))\n",
    "\n",
    "subscriptions = [u]"
   ]
  },
  {
   "cell_type": "code",
   "execution_count": 3,
   "metadata": {},
   "outputs": [
    {
     "name": "stdout",
     "output_type": "stream",
     "text": [
      "log one: 2\n"
     ]
    }
   ],
   "source": [
    "one.set(2)"
   ]
  },
  {
   "cell_type": "code",
   "execution_count": 4,
   "metadata": {},
   "outputs": [
    {
     "name": "stdout",
     "output_type": "stream",
     "text": [
      "log one: 3\n"
     ]
    }
   ],
   "source": [
    "one.update(lambda x: x + 1)"
   ]
  },
  {
   "cell_type": "code",
   "execution_count": 5,
   "metadata": {},
   "outputs": [
    {
     "data": {
      "text/plain": [
       "[<function miniai_playground.store.writable.<locals>.subscribe.<locals>.unsubscribe() -> 'None'>]"
      ]
     },
     "execution_count": 5,
     "metadata": {},
     "output_type": "execute_result"
    }
   ],
   "source": [
    "subscriptions"
   ]
  },
  {
   "cell_type": "code",
   "execution_count": 4,
   "metadata": {},
   "outputs": [
    {
     "ename": "NameError",
     "evalue": "name 'Readable' is not defined",
     "output_type": "error",
     "traceback": [
      "\u001b[0;31m---------------------------------------------------------------------------\u001b[0m",
      "\u001b[0;31mNameError\u001b[0m                                 Traceback (most recent call last)",
      "Cell \u001b[0;32mIn[4], line 4\u001b[0m\n\u001b[1;32m      1\u001b[0m user \u001b[39m=\u001b[39m {\u001b[39m\"\u001b[39m\u001b[39mname\u001b[39m\u001b[39m\"\u001b[39m: \u001b[39m\"\u001b[39m\u001b[39mMary\u001b[39m\u001b[39m\"\u001b[39m, \u001b[39m\"\u001b[39m\u001b[39mage\u001b[39m\u001b[39m\"\u001b[39m: \u001b[39m42\u001b[39m}\n\u001b[1;32m      2\u001b[0m name \u001b[39m=\u001b[39m user[\u001b[39m\"\u001b[39m\u001b[39mname\u001b[39m\u001b[39m\"\u001b[39m]\n\u001b[0;32m----> 4\u001b[0m userStore \u001b[39m=\u001b[39m Readable(user)\n\u001b[1;32m      5\u001b[0m nameStore \u001b[39m=\u001b[39m Writable(name)\n",
      "\u001b[0;31mNameError\u001b[0m: name 'Readable' is not defined"
     ]
    }
   ],
   "source": [
    "user = {\"name\": \"Mary\", \"age\": 42}\n",
    "name = user[\"name\"]\n",
    "\n",
    "userStore = Readable(user)\n",
    "nameStore = Writable(name)"
   ]
  },
  {
   "cell_type": "code",
   "execution_count": 8,
   "metadata": {},
   "outputs": [
    {
     "ename": "NameError",
     "evalue": "name 'subsciptions' is not defined",
     "output_type": "error",
     "traceback": [
      "\u001b[0;31m---------------------------------------------------------------------------\u001b[0m",
      "\u001b[0;31mNameError\u001b[0m                                 Traceback (most recent call last)",
      "Cell \u001b[0;32mIn[8], line 1\u001b[0m\n\u001b[0;32m----> 1\u001b[0m [unsubscribe() \u001b[39mfor\u001b[39;00m unsubscribe \u001b[39min\u001b[39;00m subsciptions]\n",
      "\u001b[0;31mNameError\u001b[0m: name 'subsciptions' is not defined"
     ]
    }
   ],
   "source": [
    "[unsubscribe() for unsubscribe in subsciptions]"
   ]
  },
  {
   "cell_type": "code",
   "execution_count": 6,
   "metadata": {},
   "outputs": [
    {
     "name": "stdout",
     "output_type": "stream",
     "text": [
      "{'name:': 'John', 'age': 30}\n"
     ]
    }
   ],
   "source": [
    "user = writable({\"name:\": \"John\", \"age\": 30})\n",
    "u = user.subscribe(print)\n",
    "subscriptions += [u]"
   ]
  },
  {
   "cell_type": "code",
   "execution_count": 11,
   "metadata": {},
   "outputs": [
    {
     "ename": "TypeError",
     "evalue": "'Writable' object is not subscriptable",
     "output_type": "error",
     "traceback": [
      "\u001b[0;31m---------------------------------------------------------------------------\u001b[0m",
      "\u001b[0;31mTypeError\u001b[0m                                 Traceback (most recent call last)",
      "Cell \u001b[0;32mIn[11], line 1\u001b[0m\n\u001b[0;32m----> 1\u001b[0m name \u001b[39m=\u001b[39m writable(user[\u001b[39m\"\u001b[39;49m\u001b[39mname\u001b[39;49m\u001b[39m\"\u001b[39;49m])\n",
      "\u001b[0;31mTypeError\u001b[0m: 'Writable' object is not subscriptable"
     ]
    }
   ],
   "source": [
    "name = writable(user[\"name\"])"
   ]
  },
  {
   "cell_type": "code",
   "execution_count": 10,
   "metadata": {},
   "outputs": [
    {
     "name": "stdout",
     "output_type": "stream",
     "text": [
      "\u001b[0;31mInit signature:\u001b[0m \u001b[0mWritable\u001b[0m\u001b[0;34m(\u001b[0m\u001b[0;34m)\u001b[0m\u001b[0;34m\u001b[0m\u001b[0;34m\u001b[0m\u001b[0m\n",
      "\u001b[0;31mDocstring:\u001b[0m     \n",
      "Abstract base class for generic types.\n",
      "\n",
      "A generic type is typically declared by inheriting from\n",
      "this class parameterized with one or more type variables.\n",
      "For example, a generic mapping type might be defined as::\n",
      "\n",
      "  class Mapping(Generic[KT, VT]):\n",
      "      def __getitem__(self, key: KT) -> VT:\n",
      "          ...\n",
      "      # Etc.\n",
      "\n",
      "This class can then be used as follows::\n",
      "\n",
      "  def lookup_name(mapping: Mapping[KT, VT], key: KT, default: VT) -> VT:\n",
      "      try:\n",
      "          return mapping[key]\n",
      "      except KeyError:\n",
      "          return default\n",
      "\u001b[0;31mFile:\u001b[0m           ~/code/miniai-playground/miniai_playground/store.py\n",
      "\u001b[0;31mType:\u001b[0m           type\n",
      "\u001b[0;31mSubclasses:\u001b[0m     "
     ]
    }
   ],
   "source": [
    "Writable?"
   ]
  },
  {
   "cell_type": "code",
   "execution_count": null,
   "metadata": {},
   "outputs": [],
   "source": []
  }
 ],
 "metadata": {
  "kernelspec": {
   "display_name": "fmnist5",
   "language": "python",
   "name": "python3"
  },
  "language_info": {
   "codemirror_mode": {
    "name": "ipython",
    "version": 3
   },
   "file_extension": ".py",
   "mimetype": "text/x-python",
   "name": "python",
   "nbconvert_exporter": "python",
   "pygments_lexer": "ipython3",
   "version": "3.9.16"
  },
  "orig_nbformat": 4
 },
 "nbformat": 4,
 "nbformat_minor": 2
}
