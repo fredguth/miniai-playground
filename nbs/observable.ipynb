{
 "cells": [
  {
   "cell_type": "code",
   "execution_count": 1,
   "metadata": {},
   "outputs": [],
   "source": [
    "import nbdev"
   ]
  },
  {
   "cell_type": "code",
   "execution_count": 2,
   "metadata": {},
   "outputs": [],
   "source": [
    "#| default_exp core"
   ]
  },
  {
   "cell_type": "code",
   "execution_count": 3,
   "metadata": {},
   "outputs": [],
   "source": [
    "#|export\n",
    "from __future__ import annotations\n",
    "from enum import Enum\n",
    "from typing import List, Callable, TypeVar,  Generic, Sequence, Union, Optional, Any, Set, Tuple, Dict, Protocol, NewType, Literal\n",
    "from dataclasses import dataclass"
   ]
  },
  {
   "attachments": {},
   "cell_type": "markdown",
   "metadata": {},
   "source": [
    "### Types"
   ]
  },
  {
   "cell_type": "code",
   "execution_count": 4,
   "metadata": {},
   "outputs": [],
   "source": [
    "#| export\n",
    "\n",
    "T = TypeVar(\"T\")\n",
    "TEvent = TypeVar('TEvent', bound=object) \n",
    "THandler = Callable[[TEvent], None] \n",
    "TSubscriber = Callable[[T], None] # action to invoke when the store changes\n",
    "TUnsubscriber = Callable[[], None] # action to invoke upon graceful termination of the subscription\n",
    "noop = lambda: None\n",
    "TObserver = Callable[[TEvent], None]\n",
    "class TObservable(Protocol):\n",
    "    def subscribe(self, subscriber: TSubscriber) -> TUnsubscriber: ...\n",
    "TSubject = Union[TObservable, TObserver]"
   ]
  },
  {
   "cell_type": "code",
   "execution_count": 5,
   "metadata": {},
   "outputs": [],
   "source": [
    "class Base:\n",
    "    def __str__(self) -> str: return repr(self)\n",
    "    def __repr__(self) -> str: return f\"{self.__class__.__name__}({str(self.__dict__)})\"\n",
    "    \n",
    "@dataclass\n",
    "class Event:\n",
    "    source: str\n",
    "    type: str\n",
    "    payload: Any = None\n",
    "    \n",
    "    def __init__(self, source: str, **attrs: Any) -> None:\n",
    "        self.source = source\n",
    "        for k, v in attrs.items():\n",
    "            setattr(self, k, v)\n",
    "    \n",
    "class Observable(Base,TObservable, Generic[T]):\n",
    "    def __init__(self, value: T):\n",
    "        self.value: T = value\n",
    "        self.callbacks: Set[TSubscriber] = set()\n",
    "    def __repr__(self) -> str: return f\"{self.__class__.__name__}({str(self.value)}, |cbs|= {len(self.callbacks)})\"\n",
    "    def subscribe(self, subscriber: TSubscriber) -> TUnsubscriber:\n",
    "        self.callbacks.add(subscriber)\n",
    "        e = Event(source=repr(self), type=\"UPDATE\", payload = self.value)\n",
    "        if (len(self.callbacks) ==1): e.type = \"START\" # notify subscriber it is the only callback\n",
    "        subscriber(e) # notify subscriber of the current value\n",
    "        \n",
    "        def unsubscribe()-> None: \n",
    "            if (len(self.callbacks) == 1):\n",
    "                e = Event(source=repr(self), type=\"STOP\", payload = self.value)\n",
    "                self.emits(e)\n",
    "            # reference to unsubscribe function can be kept by the subscriber\n",
    "            # and invoked later to unsubscribe\n",
    "            self.callbacks.remove(subscriber) if subscriber in self.callbacks else noop\n",
    "        return unsubscribe\n",
    "    \n",
    "    def emits(self, msg: Event) -> None:\n",
    "        for callback in self.callbacks:\n",
    "           callback(msg)"
   ]
  },
  {
   "cell_type": "code",
   "execution_count": 6,
   "metadata": {},
   "outputs": [
    {
     "name": "stdout",
     "output_type": "stream",
     "text": [
      "u1: Event(source=\"Observable({'name': 'John', 'age': 42}, |cbs|= 1)\", type='START', payload={'name': 'John', 'age': 42})\n",
      "u2: Event(source=\"Observable({'name': 'John', 'age': 42}, |cbs|= 2)\", type='UPDATE', payload={'name': 'John', 'age': 42})\n"
     ]
    }
   ],
   "source": [
    "user = Observable({\"name\": \"John\", \"age\": 42})\n",
    "u1 = user.subscribe(lambda e: print(f\"u1: {e}\"))\n",
    "u2 = user.subscribe(lambda e: print(f\"u2: {e}\"))"
   ]
  },
  {
   "cell_type": "code",
   "execution_count": 7,
   "metadata": {},
   "outputs": [
    {
     "name": "stdout",
     "output_type": "stream",
     "text": [
      "u2: Event(source=\"Observable({'name': 'John', 'age': 42}, |cbs|= 1)\", type='STOP', payload={'name': 'John', 'age': 42})\n"
     ]
    },
    {
     "data": {
      "text/plain": [
       "(None, None, None, None, None, None)"
      ]
     },
     "execution_count": 7,
     "metadata": {},
     "output_type": "execute_result"
    }
   ],
   "source": [
    "u1(), u2(), u1(), u2(), u1(), u2()"
   ]
  },
  {
   "cell_type": "code",
   "execution_count": 8,
   "metadata": {},
   "outputs": [],
   "source": [
    "class Base:\n",
    "    def __str__(self) -> str: return repr(self)\n",
    "    def __repr__(self) -> str: return f\"{self.__class__.__name__}({str(self.__dict__)})\"\n",
    "    \n",
    "@dataclass\n",
    "class Event:\n",
    "    source: str\n",
    "    type: str\n",
    "    payload: Any = None\n",
    "    \n",
    "    def __init__(self, source: str, **attrs: Any) -> None:\n",
    "        self.source = source\n",
    "        for k, v in attrs.items():\n",
    "            setattr(self, k, v)\n",
    "    \n",
    "class Observable(Base,TObservable, Generic[T]):\n",
    "    def __init__(self, value: T):\n",
    "        self.value: T = value\n",
    "        self.callbacks: Set[TSubscriber] = set()\n",
    "    def __repr__(self) -> str: return f\"{self.__class__.__name__}({str(self.value)}, |cbs|= {len(self.callbacks)})\"\n",
    "    def subscribe(self, subscriber: TSubscriber) -> TUnsubscriber:\n",
    "        self.callbacks.add(subscriber)\n",
    "        e = Event(source=repr(self), type=\"UPDATE\", payload = self.value)\n",
    "        if (len(self.callbacks) ==1): e.type = \"START\" # notify subscriber it is the only callback\n",
    "        subscriber(e) # notify subscriber of the current value\n",
    "        \n",
    "        def unsubscribe()-> None: \n",
    "            if (len(self.callbacks) == 1):\n",
    "                e = Event(source=repr(self), type=\"STOP\", payload = self.value)\n",
    "                self.emits(e)\n",
    "            # reference to unsubscribe function can be kept by the subscriber\n",
    "            # and invoked later to unsubscribe\n",
    "            self.callbacks.remove(subscriber) if subscriber in self.callbacks else noop\n",
    "        return unsubscribe\n",
    "    def emits(self, msg: Event) -> None:\n",
    "        for callback in self.callbacks:\n",
    "           callback(msg)\n",
    "    def get(self) -> T: return self.value\n",
    "    def update(self, new_value: T) -> None:\n",
    "        if self.value == new_value: return None\n",
    "        self.value = new_value\n",
    "        e = Event(source=repr(self), type=\"UPDATE\", payload = self.value)\n",
    "        self.emits(e)\n"
   ]
  },
  {
   "cell_type": "code",
   "execution_count": 9,
   "metadata": {},
   "outputs": [],
   "source": [
    "user = Observable({\"name\": \"John\", \"age\": 42})"
   ]
  },
  {
   "cell_type": "code",
   "execution_count": 10,
   "metadata": {},
   "outputs": [],
   "source": [
    "user.update(user.get()|{'age': 31})"
   ]
  },
  {
   "cell_type": "code",
   "execution_count": 11,
   "metadata": {},
   "outputs": [
    {
     "data": {
      "text/plain": [
       "Observable({'name': 'John', 'age': 31}, |cbs|= 0)"
      ]
     },
     "execution_count": 11,
     "metadata": {},
     "output_type": "execute_result"
    }
   ],
   "source": [
    "user"
   ]
  },
  {
   "cell_type": "code",
   "execution_count": 12,
   "metadata": {},
   "outputs": [
    {
     "name": "stdout",
     "output_type": "stream",
     "text": [
      "1: Event(source=\"Observable({'name': 'John', 'age': 31}, |cbs|= 1)\", type='START', payload={'name': 'John', 'age': 31})\n",
      "2: Event(source=\"Observable({'name': 'John', 'age': 31}, |cbs|= 2)\", type='UPDATE', payload={'name': 'John', 'age': 31})\n"
     ]
    }
   ],
   "source": [
    "u1 = user.subscribe(lambda msg: print(\"1:\",msg))\n",
    "u2 = user.subscribe(lambda msg: print(\"2:\",msg))"
   ]
  },
  {
   "cell_type": "code",
   "execution_count": 13,
   "metadata": {},
   "outputs": [
    {
     "name": "stdout",
     "output_type": "stream",
     "text": [
      "2: Event(source=\"Observable({'name': 'John', 'age': 31}, |cbs|= 1)\", type='STOP', payload={'name': 'John', 'age': 31})\n"
     ]
    },
    {
     "data": {
      "text/plain": [
       "(None, None, None, None, None, None)"
      ]
     },
     "execution_count": 13,
     "metadata": {},
     "output_type": "execute_result"
    }
   ],
   "source": [
    "u1(), u2(), u1(), u2(), u1(), u2()"
   ]
  },
  {
   "cell_type": "code",
   "execution_count": 14,
   "metadata": {},
   "outputs": [
    {
     "name": "stdout",
     "output_type": "stream",
     "text": [
      "1: Event(source=\"Observable({'name': 'John', 'age': 31}, |cbs|= 1)\", type='START', payload={'name': 'John', 'age': 31})\n",
      "2: Event(source=\"Observable({'name': 'John', 'age': 31}, |cbs|= 2)\", type='UPDATE', payload={'name': 'John', 'age': 31})\n"
     ]
    }
   ],
   "source": [
    "u1 = user.subscribe(lambda msg: print(\"1:\",msg))\n",
    "u2 = user.subscribe(lambda msg: print(\"2:\",msg))"
   ]
  },
  {
   "cell_type": "code",
   "execution_count": 15,
   "metadata": {},
   "outputs": [
    {
     "name": "stdout",
     "output_type": "stream",
     "text": [
      "2: Event(source=\"Observable({'name': 'John', 'age': 39}, |cbs|= 1)\", type='UPDATE', payload={'name': 'John', 'age': 39})\n"
     ]
    }
   ],
   "source": [
    "u1()\n",
    "user.update(user.get()|{'age': 39})"
   ]
  },
  {
   "cell_type": "code",
   "execution_count": 16,
   "metadata": {},
   "outputs": [],
   "source": [
    "class Callback(Generic[T]):\n",
    "    def __init__(self, o:TObservable, fn: Callable[[T], None]) -> None:\n",
    "        self.fn = fn\n",
    "        self.o = o\n",
    "        self.unsubscribe = o.subscribe(lambda msg: self.__call__(msg))\n",
    "    def __call__(self, msg: Event) -> None: \n",
    "        actions = {\n",
    "            \"START\": lambda x: None,\n",
    "            \"UPDATE\": self.fn,\n",
    "            \"STOP\": lambda x: None\n",
    "        }\n",
    "        actions[msg.type](msg.payload)"
   ]
  },
  {
   "cell_type": "code",
   "execution_count": 17,
   "metadata": {},
   "outputs": [],
   "source": [
    "\n",
    "# class Callback(Generic[T]):\n",
    "#     def __init__(self, observes: Sequence[TObservable], fn: Callable[[T], None]) -> None:\n",
    "#         self.fn = fn\n",
    "#         self.observes = observes\n",
    "#         self.subscriptions: Set[TUnsubscriber] = set()\n",
    "#         for observer in observes: \n",
    "#             unsubscribe = observer.subscribe(lambda msg: self.__call__(msg))\n",
    "#             self.subscriptions.add(unsubscribe)\n",
    "#     def __call__(self, msg: Event) -> None: \n",
    "#         actions = {\n",
    "#             \"START\": lambda x: None,\n",
    "#             \"UPDATE\": self.fn,\n",
    "#             \"STOP\": lambda x: None\n",
    "#         }\n",
    "#         actions[msg.type](msg.payload)"
   ]
  },
  {
   "cell_type": "code",
   "execution_count": 18,
   "metadata": {},
   "outputs": [],
   "source": [
    "user = Observable({\"name\": \"John\", \"age\": 42})"
   ]
  },
  {
   "cell_type": "code",
   "execution_count": 19,
   "metadata": {},
   "outputs": [],
   "source": [
    "log = Callback(user, lambda x: print(\"log1:\", x))"
   ]
  },
  {
   "cell_type": "code",
   "execution_count": 20,
   "metadata": {},
   "outputs": [
    {
     "name": "stdout",
     "output_type": "stream",
     "text": [
      "log1: {'name': 'John', 'age': 23}\n"
     ]
    }
   ],
   "source": [
    "user.update(user.get()|{'age': 23})"
   ]
  },
  {
   "cell_type": "code",
   "execution_count": 32,
   "metadata": {},
   "outputs": [],
   "source": [
    "#| export\n",
    "from typing import List, Callable, TypeVar,  Generic, Sequence, Union, Optional, Any, Set, Tuple, Dict, Protocol, NewType, Literal\n",
    "from result import Ok, Err, Result #type: ignore\n",
    "from typing import TypedDict\n",
    "T = TypeVar(\"T\")\n",
    "TEvent = TypeVar('TEvent', bound=object) \n",
    "THandler = Callable[[TEvent], None] \n",
    "TSubscriber = Union[Callable[[T], None], Callable[[T], Result[Ok[T], Err[TEvent]]]]  # action to invoke when the store changes\n",
    "TUnsubscriber = Callable[[], None] # action to invoke upon graceful termination of the subscription\n",
    "TUpdater = Callable[[T, TEvent], T] # action to invoke to update the store, aka reducer\n",
    "noop = lambda *x: None\n",
    "TNotifier = Callable[[], T]\n",
    "class TObserver(Protocol):\n",
    "    def __call__(self, msg: TEvent) -> None: ... # type: ignore\n",
    "class TObservable(Protocol):\n",
    "    def subscribe(self, subscriber: TSubscriber) -> TUnsubscriber: ...\n",
    "class TSubject(TObservable, TObserver, Protocol): ...\n",
    "class TActions(TypedDict, total=False):\n",
    "    START: Optional[Callable]\n",
    "    UPDATE: TSubscriber\n",
    "    STOP: Optional[Callable]\n",
    "\n",
    "class Readable(TypedDict, total=False):\n",
    "    subscribe: Callable[[TSubscriber], TUnsubscriber]\n",
    "\n",
    "class Writable(TypedDict, total=True):\n",
    "    update: TUpdater\n",
    "    subscribe: Callable[[TSubscriber], TUnsubscriber]"
   ]
  },
  {
   "cell_type": "code",
   "execution_count": 30,
   "metadata": {},
   "outputs": [],
   "source": [
    "u: Readable = {'subscribe': lambda x: lambda: None}\n",
    "w: Writable = {'subscribe': lambda x: lambda: None, 'update': lambda x, y: None}\n",
    "y: Readable = {'subscribe': lambda x: lambda: None, 'cebola': None}\n"
   ]
  },
  {
   "cell_type": "code",
   "execution_count": 22,
   "metadata": {},
   "outputs": [],
   "source": [
    "class Callback(Generic[T]):\n",
    "    def __init__(self, observes:TObservable, actions: TActions ) -> None:\n",
    "        self.observes = observes\n",
    "        self.actions = actions\n",
    "        self.unsubscribe = observes.subscribe(lambda msg: self.__call__(msg))\n",
    "    def __call__(self, msg: Event): \n",
    "        return self.actions[msg.type](msg.payload)"
   ]
  },
  {
   "cell_type": "code",
   "execution_count": 23,
   "metadata": {},
   "outputs": [],
   "source": [
    "class Operator(Callback, Generic[T]):\n",
    "    def __init__(self, observes:TObservable, actions: TActions, notifies: TSubscriber ) -> None:\n",
    "        super().__init__(observes, actions)\n",
    "        self.notifies = notifies\n",
    "    def __call__(self, msg: Event) -> Result[Ok[T], Err[TEvent]]: \n",
    "        return self.actions[msg.type](msg.payload)"
   ]
  },
  {
   "cell_type": "code",
   "execution_count": null,
   "metadata": {},
   "outputs": [],
   "source": []
  },
  {
   "cell_type": "code",
   "execution_count": null,
   "metadata": {},
   "outputs": [],
   "source": [
    "\n",
    "# class Store(TObservable):\n",
    "#     def subscribe(self, subscriber: TSubscriber) -> TUnsubscriber:\n",
    "#         return noop\n",
    "#     def emits(self, msg: Any) -> None:\n",
    "#         pass\n",
    "\n",
    "# class Event(object):\n",
    "#     pass\n",
    "\n",
    "# class Observable(object):\n",
    "#     def __init__(self):\n",
    "#         self.callbacks = []\n",
    "#     def subscribe(self, callback):\n",
    "#         self.callbacks.append(callback)\n",
    "#     def fire(self, **attrs):\n",
    "#         e = Event()\n",
    "#         e.source = self\n",
    "#         for k, v in attrs.items():\n",
    "#             setattr(e, k, v)\n",
    "#         for fn in self.callbacks:\n",
    "#             fn(e)\n",
    "    \n",
    "# class Readable(Generic[T]):\n",
    "#     def __init__(self, value: T, start: Optional[TStartStop]=None) -> None:\n",
    "#         self.value: T = value\n",
    "#         self.start: Optional[TStartStop] = start\n",
    "#         self.subscribers: set[TSubscriber] = set() # callback list\n",
    "\n",
    "#     def __getattr__(self, name):\n",
    "#         return getattr(self.value, name)\n",
    "\n",
    "#     def __repr__(self) -> str:\n",
    "#         return f\"{self.__class__.__name__}({self.value!r})\"\n",
    "\n",
    "#     def __str__(self) -> str: return str(self.value)\n",
    "\n",
    "#     def get(self) -> T: return self.value\n",
    "\n",
    "#     def _set(self, new_value: T) -> None:\n",
    "#         if new_value != self.value: self.value = new_value\n",
    "#         for subscriber in self.subscribers: subscriber(self.value)\n",
    "\n",
    "#     def subscribe(self, subscriber: TSubscriber) -> TUnsubscriber:\n",
    "#         self.subscribers.add(subscriber)\n",
    "#         subscriber(self.value)\n",
    "#         if (len(self.subscribers) == 1):\n",
    "#              if self.start is not None: \n",
    "#                 self.stop: Union[TUnsubscriber, None] =  self.start(self._set) \n",
    "#         def unsubscribe()-> None:\n",
    "#             self.subscribers.remove(subscriber)\n",
    "#         if isinstance(subscriber, Subscriber): subscriber.add_subscription(unsubscribe)\n",
    "#         return unsubscribe\n",
    "\n",
    "# class Writable(Readable[T]):\n",
    "\n",
    "#     def set(self, new_value: T) -> None:\n",
    "#         self._set(new_value)\n",
    "    \n",
    "#     def update(self, fn: TUpdater) -> None: self.set(fn(self.value))\n",
    "\n",
    "\n",
    "# class Subscriber(Generic[T]):\n",
    "#     \"\"\" Represents a subscriber (a callback) to a store (an observable).\"\"\"\n",
    "#     def __init__(self, fn: Callable[[T], None], observable: Optional[Union[Readable[T], Writable[T]]]) -> None:\n",
    "#         self.fn = fn\n",
    "#         self.subscriptions: Set[Callable[[], None]] = set()\n",
    "\n",
    "#     def __call__(self, value: T) -> None:\n",
    "#         self.fn(value)\n",
    "\n",
    "#     def __eq__(self, other: Callable[[T], None]) -> bool:\n",
    "#         return self.fn == other.fn\n",
    "\n",
    "#     def __hash__(self) -> int:\n",
    "#         return hash(self.fn)\n",
    "    \n",
    "#     def __del__(self)-> None:\n",
    "#         for unsubscribe in self.subscriptions: unsubscribe()\n",
    "        \n",
    "#     def add_subscription(self, unsubscribe: Callable[[], None])-> None:\n",
    "#         self.subscriptions.add(unsubscribe)\n",
    "    \n"
   ]
  },
  {
   "cell_type": "code",
   "execution_count": null,
   "metadata": {},
   "outputs": [],
   "source": [
    "Stores = Union[Readable[T], Sequence[Readable[T]]]\n",
    "Observable = Union[Readable[T], Writable[T]]"
   ]
  },
  {
   "cell_type": "markdown",
   "metadata": {},
   "source": [
    "### Export"
   ]
  },
  {
   "cell_type": "code",
   "execution_count": null,
   "metadata": {},
   "outputs": [],
   "source": [
    "nbdev.nbdev_export()"
   ]
  },
  {
   "cell_type": "code",
   "execution_count": null,
   "metadata": {},
   "outputs": [],
   "source": [
    "# #| export\n",
    "\n",
    "# def writable(value: T) -> Writable[T]:\n",
    "#     \"\"\" Create a writable store with a given value that allows both updating and reading by subscription.\"\"\"\n",
    "\n",
    "    \n",
    "#     def set(new_value: T) -> None:\n",
    "#         nonlocal value\n",
    "#         if new_value != value: value = new_value\n",
    "#         for subscriber in subscriber_queue: subscriber(value)\n",
    "\n",
    "#     def update(fn: Updater[T]) -> None: set(fn(value))\n",
    "\n",
    "#     def subscribe(subscriber: Subscriber[T]) -> Unsubscriber:\n",
    "#         subscriber_queue.append(subscriber)\n",
    "#         subscriber(value)\n",
    "\n",
    "#         def unsubscribe() -> None:\n",
    "#             subscriber_queue.remove(subscriber)\n",
    "\n",
    "#         return unsubscribe\n",
    "\n",
    "#     ret = Writable() # type: ignore\n",
    "#     ret.set = set # type: ignore\n",
    "#     ret.update = update # type: ignore\n",
    "#     ret.subscribe = subscribe\n",
    "\n",
    "#     return ret"
   ]
  },
  {
   "cell_type": "code",
   "execution_count": null,
   "metadata": {},
   "outputs": [],
   "source": [
    "# #| export\n",
    "\n",
    "# def readable(value: T) -> Readable[T]:\n",
    "#     ret = Readable()\n",
    "#     ret.subscribe = writable(value).subscribe\n",
    "#     return ret"
   ]
  },
  {
   "cell_type": "code",
   "execution_count": null,
   "metadata": {},
   "outputs": [],
   "source": [
    "# class Store:\n",
    "#     def __init__(self, value):\n",
    "#         self.value = value\n",
    "#         self.subscribers = []\n",
    "#     def subscribe(self, subscriber):\n",
    "#         self.subscribers.append(subscriber)\n",
    "#         subscriber(self.value)\n",
    "#         return lambda: self.subscribers.remove(subscriber)\n",
    "#     def set(self, value):\n",
    "#         if value != self.value:\n",
    "#             self.value = value\n",
    "#             for subscriber in self.subscribers:\n",
    "#                 subscriber(value)\n",
    "#     def update(self, updater):\n",
    "#         self.set(updater(self.value))"
   ]
  }
 ],
 "metadata": {
  "kernelspec": {
   "display_name": "fmnist5",
   "language": "python",
   "name": "python3"
  },
  "language_info": {
   "codemirror_mode": {
    "name": "ipython",
    "version": 3
   },
   "file_extension": ".py",
   "mimetype": "text/x-python",
   "name": "python",
   "nbconvert_exporter": "python",
   "pygments_lexer": "ipython3",
   "version": "3.9.16"
  },
  "orig_nbformat": 4
 },
 "nbformat": 4,
 "nbformat_minor": 2
}
