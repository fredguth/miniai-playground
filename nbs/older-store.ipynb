{
 "cells": [
  {
   "cell_type": "code",
   "execution_count": 1,
   "metadata": {},
   "outputs": [],
   "source": [
    "import nbdev"
   ]
  },
  {
   "cell_type": "code",
   "execution_count": 2,
   "metadata": {},
   "outputs": [],
   "source": [
    "#| default_exp store"
   ]
  },
  {
   "cell_type": "code",
   "execution_count": 16,
   "metadata": {},
   "outputs": [],
   "source": [
    "#|export\n",
    "from __future__ import annotations\n",
    "from typing import List, Callable, TypeVar,  Generic, Sequence, Union, Optional, Any, Set"
   ]
  },
  {
   "attachments": {},
   "cell_type": "markdown",
   "metadata": {},
   "source": [
    "### Types"
   ]
  },
  {
   "cell_type": "code",
   "execution_count": 14,
   "metadata": {},
   "outputs": [],
   "source": [
    "#| export\n",
    "\n",
    "T = TypeVar(\"T\")\n",
    "\n",
    "TSubscriber = Callable[[T], None]\n",
    "TUnsubscriber = Callable[[], None]\n",
    "TUpdater = Callable[[T], T]\n",
    "TStartStop = Callable[[TSubscriber], Union[TUnsubscriber, None]]\n",
    "\n",
    "    \n",
    "class Readable(Generic[T]):\n",
    "    def __init__(self, value: T, start: Optional[TStartStop]=None) -> None:\n",
    "        self.value: T = value\n",
    "        self.start: Optional[TStartStop] = start\n",
    "        self.subscribers: set[TSubscriber] = set() # callback list\n",
    "\n",
    "    def __getattr__(self, name):\n",
    "        return getattr(self.value, name)\n",
    "\n",
    "    def __repr__(self) -> str:\n",
    "        return f\"{self.__class__.__name__}({self.value!r})\"\n",
    "\n",
    "    def __str__(self) -> str: return str(self.value)\n",
    "\n",
    "    def get(self) -> T: return self.value\n",
    "\n",
    "    def _set(self, new_value: T) -> None:\n",
    "        if new_value != self.value: self.value = new_value\n",
    "        for subscriber in self.subscribers: subscriber(self.value)\n",
    "\n",
    "    def subscribe(self, subscriber: TSubscriber) -> TUnsubscriber:\n",
    "        self.subscribers.add(subscriber)\n",
    "        subscriber(self.value)\n",
    "        if (len(self.subscribers) == 1):\n",
    "             if self.start is not None: \n",
    "                self.stop: Union[TUnsubscriber, None] =  self.start(self._set) \n",
    "        def unsubscribe()-> None:\n",
    "            self.subscribers.remove(subscriber)\n",
    "        if isinstance(subscriber, Subscriber): subscriber.add_subscription(unsubscribe)\n",
    "        return unsubscribe\n",
    "\n",
    "class Writable(Readable[T]):\n",
    "\n",
    "    def set(self, new_value: T) -> None:\n",
    "        self._set(new_value)\n",
    "    \n",
    "    def update(self, fn: TUpdater) -> None: self.set(fn(self.value))\n",
    "\n",
    "\n",
    "class Subscriber(Generic[T]):\n",
    "    \"\"\" Represents a subscriber (a callback) to a store (an observable).\"\"\"\n",
    "    def __init__(self, fn: Callable[[T], None], observable: Optional[Union[Readable[T], Writable[T]]]) -> None:\n",
    "        self.fn = fn\n",
    "        self.subscriptions: Set[Callable[[], None]] = set()\n",
    "\n",
    "    def __call__(self, value: T) -> None:\n",
    "        self.fn(value)\n",
    "\n",
    "    def __eq__(self, other: Callable[[T], None]) -> bool:\n",
    "        return self.fn == other.fn\n",
    "\n",
    "    def __hash__(self) -> int:\n",
    "        return hash(self.fn)\n",
    "    \n",
    "    def __del__(self)-> None:\n",
    "        for unsubscribe in self.subscriptions: unsubscribe()\n",
    "        \n",
    "    def add_subscription(self, unsubscribe: Callable[[], None])-> None:\n",
    "        self.subscriptions.add(unsubscribe)\n",
    "    \n"
   ]
  },
  {
   "cell_type": "code",
   "execution_count": 24,
   "metadata": {},
   "outputs": [
    {
     "ename": "TypeError",
     "evalue": "'set' object is not subscriptable",
     "output_type": "error",
     "traceback": [
      "\u001b[0;31m---------------------------------------------------------------------------\u001b[0m",
      "\u001b[0;31mTypeError\u001b[0m                                 Traceback (most recent call last)",
      "Cell \u001b[0;32mIn[24], line 3\u001b[0m\n\u001b[1;32m      1\u001b[0m a \u001b[39m=\u001b[39m \u001b[39mset\u001b[39m()\n\u001b[1;32m      2\u001b[0m a\u001b[39m.\u001b[39madd(\u001b[39m1\u001b[39m), a\u001b[39m.\u001b[39madd(\u001b[39m'\u001b[39m\u001b[39mfoo\u001b[39m\u001b[39m'\u001b[39m)\n\u001b[0;32m----> 3\u001b[0m a, a[\u001b[39m0\u001b[39;49m]\n",
      "\u001b[0;31mTypeError\u001b[0m: 'set' object is not subscriptable"
     ]
    }
   ],
   "source": [
    "a = set()\n",
    "a.add(1), a.add('foo')\n",
    "a, a[0]"
   ]
  },
  {
   "cell_type": "code",
   "execution_count": 31,
   "metadata": {},
   "outputs": [],
   "source": [
    "a.add(2)\n",
    "a.add(object())\n",
    "a.add(1.0)"
   ]
  },
  {
   "cell_type": "code",
   "execution_count": 35,
   "metadata": {},
   "outputs": [
    {
     "data": {
      "text/plain": [
       "[2, <object at 0x7facbc0cae20>, 'foo']"
      ]
     },
     "execution_count": 35,
     "metadata": {},
     "output_type": "execute_result"
    }
   ],
   "source": [
    "[x for x in a]"
   ]
  },
  {
   "cell_type": "code",
   "execution_count": 12,
   "metadata": {},
   "outputs": [],
   "source": [
    "Stores = Union[Readable[T], Sequence[Readable[T]]]\n",
    "Observable = Union[Readable[T], Writable[T]]"
   ]
  },
  {
   "cell_type": "code",
   "execution_count": null,
   "metadata": {},
   "outputs": [],
   "source": [
    "def derived (stores: Stores. fn: Callable) -> Readable:\n",
    "\"\"\"Derived value store by synchronizing one or more readable stores and\n",
    "applying an aggregation function over its input values.\"\"\""
   ]
  },
  {
   "cell_type": "code",
   "execution_count": null,
   "metadata": {
    "vscode": {
     "languageId": "javascript"
    }
   },
   "outputs": [],
   "source": [
    "export function writable<T>(value?: T, start: StartStopNotifier<T> = noop): Writable<T> {\n",
    "\tlet stop: Unsubscriber;\n",
    "\tconst subscribers: Set<SubscribeInvalidateTuple<T>> = new Set();\n",
    "\n",
    "\tfunction set(new_value: T): void {\n",
    "\t\tif (safe_not_equal(value, new_value)) {\n",
    "\t\t\tvalue = new_value;\n",
    "\t\t\tif (stop) { // store is ready\n",
    "\t\t\t\tconst run_queue = !subscriber_queue.length;\n",
    "\t\t\t\tfor (const subscriber of subscribers) {\n",
    "\t\t\t\t\tsubscriber[1]();\n",
    "\t\t\t\t\tsubscriber_queue.push(subscriber, value);\n",
    "\t\t\t\t}\n",
    "\t\t\t\tif (run_queue) {\n",
    "\t\t\t\t\tfor (let i = 0; i < subscriber_queue.length; i += 2) {\n",
    "\t\t\t\t\t\tsubscriber_queue[i][0](subscriber_queue[i + 1]);\n",
    "\t\t\t\t\t}\n",
    "\t\t\t\t\tsubscriber_queue.length = 0;\n",
    "\t\t\t\t}\n",
    "\t\t\t}\n",
    "\t\t}\n",
    "\t}\n",
    "\n",
    "\tfunction update(fn: Updater<T>): void {\n",
    "\t\tset(fn(value));\n",
    "\t}\n",
    "\n",
    "\tfunction subscribe(run: Subscriber<T>, invalidate: Invalidator<T> = noop): Unsubscriber {\n",
    "\t\tconst subscriber: SubscribeInvalidateTuple<T> = [run, invalidate];\n",
    "\t\tsubscribers.add(subscriber);\n",
    "\t\tif (subscribers.size === 1) {\n",
    "\t\t\tstop = start(set) || noop;\n",
    "\t\t}\n",
    "\t\trun(value);\n",
    "\n",
    "\t\treturn () => {\n",
    "\t\t\tsubscribers.delete(subscriber);\n",
    "\t\t\tif (subscribers.size === 0) {\n",
    "\t\t\t\tstop();\n",
    "\t\t\t\tstop = null;\n",
    "\t\t\t}\n",
    "\t\t};\n",
    "\t}\n",
    "\n",
    "\treturn { set, update, subscribe };\n",
    "}"
   ]
  },
  {
   "cell_type": "code",
   "execution_count": 13,
   "metadata": {},
   "outputs": [
    {
     "ename": "NameError",
     "evalue": "name 'one' is not defined",
     "output_type": "error",
     "traceback": [
      "\u001b[0;31m---------------------------------------------------------------------------\u001b[0m",
      "\u001b[0;31mNameError\u001b[0m                                 Traceback (most recent call last)",
      "Cell \u001b[0;32mIn[13], line 1\u001b[0m\n\u001b[0;32m----> 1\u001b[0m \u001b[39mlen\u001b[39m(one)\n",
      "\u001b[0;31mNameError\u001b[0m: name 'one' is not defined"
     ]
    }
   ],
   "source": [
    "len(one)\n"
   ]
  },
  {
   "cell_type": "code",
   "execution_count": null,
   "metadata": {},
   "outputs": [],
   "source": [
    "\n",
    "\n",
    "class Derived:\n",
    "    def __init__(self, stores: Stores, fn: Callable[[Any], Any], initial_value: Any):\n",
    "        self.stores = stores\n",
    "        self.fn = fn\n",
    "        self.initial_value = initial_value\n",
    "        self.value = initial_value\n",
    "        self.subscribers: List[Callable[[Any], None]] = []\n",
    "        self._unsubscribe: List[Callable[[], None]] = []\n",
    "        self._set = self.set\n",
    "        self.set = self.update\n",
    "\n",
    "    def set(self, value: Any) -> None:\n",
    "        self.value = value\n",
    "        for subscriber in self.subscribers: subscriber(self.value)\n",
    "\n",
    "    def update(self, fn: Callable[[Any], Any]) -> None:\n",
    "        self.set(fn(self.value))\n",
    "\n",
    "    def subscribe(self, subscriber: Callable[[Any], None]) -> Callable[[], None]:\n",
    "        self.subscribers.append(subscriber)\n",
    "        subscriber(self.value)\n",
    "        return lambda: self.subscribers.remove(subscriber)\n",
    "\n",
    "    def unsubscribe(self) -> None:\n",
    "        for unsub in self._unsubscribe: unsub()\n",
    "\n",
    "    def __enter__(self) -> Derived:\n",
    "        self._unsubscribe = [store.subscribe(self._set) for store in self.stores]\n",
    "        return self\n",
    "\n",
    "    def __exit__(self, exc_type, exc_value, traceback) -> None:\n",
    "        self.unsubscribe()\n",
    "\n",
    "    def __call__(self) -> Any:\n",
    "        return self.value\n",
    "\n",
    "    def __repr__(self) -> str:\n",
    "        return f\"{self.__class__.__name__}({self.stores!r}, {self.fn!r}, {self.initial_value!r})\"\n",
    "\n",
    "    def __str__(self) -> str: return str(self.value)\n",
    "\n",
    "export function derived<S extends Stores, T>(\n",
    "\tstores: S,\n",
    "\tfn: (values: StoresValues<S>, set: (value: T) => void) => Unsubscriber | void,\n",
    "\tinitial_value?: T\n",
    "): Readable<T>;\n",
    "\n",
    "/**\n",
    " * Derived value store by synchronizing one or more readable stores and\n",
    " * applying an aggregation function over its input values.\n",
    " *\n",
    " * @param stores - input stores\n",
    " * @param fn - function callback that aggregates the values\n",
    " * @param initial_value - initial value\n",
    " */\n",
    "export function derived<S extends Stores, T>(\n",
    "\tstores: S,\n",
    "\tfn: (values: StoresValues<S>) => T,\n",
    "\tinitial_value?: T\n",
    "): Readable<T>;\n",
    "\n",
    "/**\n",
    " * Derived value store by synchronizing one or more readable stores and\n",
    " * applying an aggregation function over its input values.\n",
    " *\n",
    " * @param stores - input stores\n",
    " * @param fn - function callback that aggregates the values\n",
    " */\n",
    "export function derived<S extends Stores, T>(\n",
    "\tstores: S,\n",
    "\tfn: (values: StoresValues<S>) => T\n",
    "): Readable<T>;\n",
    "\n",
    "export function derived<T>(stores: Stores, fn: Function, initial_value?: T): Readable<T> {\n",
    "\tconst single = !Array.isArray(stores);\n",
    "\tconst stores_array: Array<Readable<any>> = single\n",
    "\t\t? [stores as Readable<any>]\n",
    "\t\t: stores as Array<Readable<any>>;\n",
    "\n",
    "\tconst auto = fn.length < 2;\n",
    "\n",
    "\treturn readable(initial_value, (set) => {\n",
    "\t\tlet inited = false;\n",
    "\t\tconst values = [];\n",
    "\n",
    "\t\tlet pending = 0;\n",
    "\t\tlet cleanup = noop;\n",
    "\n",
    "\t\tconst sync = () => {\n",
    "\t\t\tif (pending) {\n",
    "\t\t\t\treturn;\n",
    "\t\t\t}\n",
    "\t\t\tcleanup();\n",
    "\t\t\tconst result = fn(single ? values[0] : values, set);\n",
    "\t\t\tif (auto) {\n",
    "\t\t\t\tset(result as T);\n",
    "\t\t\t} else {\n",
    "\t\t\t\tcleanup = is_function(result) ? result as Unsubscriber : noop;\n",
    "\t\t\t}\n",
    "\t\t};\n",
    "\n",
    "\t\tconst unsubscribers = stores_array.map((store, i) => subscribe(\n",
    "\t\t\tstore,\n",
    "\t\t\t(value) => {\n",
    "\t\t\t\tvalues[i] = value;\n",
    "\t\t\t\tpending &= ~(1 << i);\n",
    "\t\t\t\tif (inited) {\n",
    "\t\t\t\t\tsync();\n",
    "\t\t\t\t}\n",
    "\t\t\t},\n",
    "\t\t\t() => {\n",
    "\t\t\t\tpending |= (1 << i);\n",
    "\t\t\t})\n",
    "\t\t);\n",
    "\n",
    "\t\tinited = true;\n",
    "\t\tsync();\n",
    "\n",
    "\t\treturn function stop() {\n",
    "\t\t\trun_all(unsubscribers);\n",
    "\t\t\tcleanup();\n",
    "\t\t};\n",
    "\t});\n",
    "}\n",
    "\n",
    "/**\n",
    " * Get the current value from a store by subscribing and immediately unsubscribing.\n",
    " * @param store readable\n",
    " */\n",
    "export { get_store_value as get };"
   ]
  },
  {
   "cell_type": "code",
   "execution_count": null,
   "metadata": {},
   "outputs": [],
   "source": []
  },
  {
   "cell_type": "code",
   "execution_count": null,
   "metadata": {},
   "outputs": [],
   "source": []
  },
  {
   "cell_type": "code",
   "execution_count": null,
   "metadata": {},
   "outputs": [],
   "source": []
  },
  {
   "cell_type": "markdown",
   "metadata": {},
   "source": [
    "### Export"
   ]
  },
  {
   "cell_type": "code",
   "execution_count": 15,
   "metadata": {},
   "outputs": [],
   "source": [
    "nbdev.nbdev_export()"
   ]
  },
  {
   "cell_type": "code",
   "execution_count": 5,
   "metadata": {},
   "outputs": [],
   "source": [
    "# #| export\n",
    "\n",
    "# def writable(value: T) -> Writable[T]:\n",
    "#     \"\"\" Create a writable store with a given value that allows both updating and reading by subscription.\"\"\"\n",
    "\n",
    "    \n",
    "#     def set(new_value: T) -> None:\n",
    "#         nonlocal value\n",
    "#         if new_value != value: value = new_value\n",
    "#         for subscriber in subscriber_queue: subscriber(value)\n",
    "\n",
    "#     def update(fn: Updater[T]) -> None: set(fn(value))\n",
    "\n",
    "#     def subscribe(subscriber: Subscriber[T]) -> Unsubscriber:\n",
    "#         subscriber_queue.append(subscriber)\n",
    "#         subscriber(value)\n",
    "\n",
    "#         def unsubscribe() -> None:\n",
    "#             subscriber_queue.remove(subscriber)\n",
    "\n",
    "#         return unsubscribe\n",
    "\n",
    "#     ret = Writable() # type: ignore\n",
    "#     ret.set = set # type: ignore\n",
    "#     ret.update = update # type: ignore\n",
    "#     ret.subscribe = subscribe\n",
    "\n",
    "#     return ret"
   ]
  },
  {
   "cell_type": "code",
   "execution_count": 6,
   "metadata": {},
   "outputs": [],
   "source": [
    "# #| export\n",
    "\n",
    "# def readable(value: T) -> Readable[T]:\n",
    "#     ret = Readable()\n",
    "#     ret.subscribe = writable(value).subscribe\n",
    "#     return ret"
   ]
  },
  {
   "cell_type": "code",
   "execution_count": 8,
   "metadata": {},
   "outputs": [],
   "source": [
    "# class Store:\n",
    "#     def __init__(self, value):\n",
    "#         self.value = value\n",
    "#         self.subscribers = []\n",
    "#     def subscribe(self, subscriber):\n",
    "#         self.subscribers.append(subscriber)\n",
    "#         subscriber(self.value)\n",
    "#         return lambda: self.subscribers.remove(subscriber)\n",
    "#     def set(self, value):\n",
    "#         if value != self.value:\n",
    "#             self.value = value\n",
    "#             for subscriber in self.subscribers:\n",
    "#                 subscriber(value)\n",
    "#     def update(self, updater):\n",
    "#         self.set(updater(self.value))"
   ]
  }
 ],
 "metadata": {
  "kernelspec": {
   "display_name": "fmnist5",
   "language": "python",
   "name": "python3"
  },
  "language_info": {
   "codemirror_mode": {
    "name": "ipython",
    "version": 3
   },
   "file_extension": ".py",
   "mimetype": "text/x-python",
   "name": "python",
   "nbconvert_exporter": "python",
   "pygments_lexer": "ipython3",
   "version": "3.9.16"
  },
  "orig_nbformat": 4
 },
 "nbformat": 4,
 "nbformat_minor": 2
}
