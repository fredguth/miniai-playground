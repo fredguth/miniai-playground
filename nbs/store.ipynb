{
 "cells": [
  {
   "attachments": {},
   "cell_type": "markdown",
   "metadata": {},
   "source": [
    "# Svelty\n",
    "A `Svelt Stores` implementation in python.\n",
    "See `Svelt Stores` [documentation](https://svelte.dev/docs#run-time-svelte-store) for more information on the original."
   ]
  },
  {
   "cell_type": "markdown",
   "metadata": {},
   "source": [
    "## Setup"
   ]
  },
  {
   "cell_type": "code",
   "execution_count": 1,
   "metadata": {},
   "outputs": [],
   "source": [
    "import nbdev"
   ]
  },
  {
   "cell_type": "code",
   "execution_count": 2,
   "metadata": {},
   "outputs": [],
   "source": [
    "#| default_exp store"
   ]
  },
  {
   "cell_type": "code",
   "execution_count": 3,
   "metadata": {},
   "outputs": [],
   "source": [
    "#|export\n",
    "from __future__ import annotations\n",
    "from enum import Enum\n",
    "from types import SimpleNamespace\n",
    "from typing import List, Callable, TypeVar,  Generic, Sequence, Union, Optional, Any, Set, Tuple, Dict, Protocol, NewType, Literal, TypedDict, overload\n",
    "from dataclasses import dataclass\n",
    "from result import Ok, Err, Result #type: ignore"
   ]
  },
  {
   "attachments": {},
   "cell_type": "markdown",
   "metadata": {},
   "source": [
    "## Svelte Store contract"
   ]
  },
  {
   "attachments": {},
   "cell_type": "markdown",
   "metadata": {},
   "source": [
    "1. A store must contain a `.subscribe` method, which must accept as its argument a `subscription function`(aka Subscriber or Callback). This `subscription function` must be immediately and synchronously called with the store's current value upon calling `subscribe`. All of a store's active subscription functions must later be synchronously called whenever the store's value changes.\n",
    "\n",
    "1. The `.subscribe` method must return an `unsubscribe function`(aka Unsubscriber). Calling an `unsubscribe function` must `stop` its subscription, and its corresponding `subscription function` must not be called again by the store.\n",
    "\n",
    "1. A store may optionally contain a `.set` method, which must accept as its argument a new value for the store, and which synchronously calls all of the store's active subscription functions. Such a store is called a writable store.\n",
    "\n",
    "\n",
    "~~For interoperability with RxJS Observables, the .subscribe method is also allowed to return an object with an .unsubscribe method, rather than return the unsubscription function directly. Note however that unless .subscribe synchronously calls the subscription (which is not required by the Observable spec), Svelte will see the value of the store as undefined until it does.~~\n",
    "\n",
    "[Store Contract Documentation](https://svelte.dev/docs#component-format-script-4-prefix-stores-with-$-to-access-their-values-store-contract)"
   ]
  },
  {
   "attachments": {},
   "cell_type": "markdown",
   "metadata": {},
   "source": [
    "### Types Definition"
   ]
  },
  {
   "cell_type": "code",
   "execution_count": 4,
   "metadata": {},
   "outputs": [],
   "source": [
    "#| export\n",
    "\n",
    "T = TypeVar(\"T\")\n",
    "covT = TypeVar(\"covT\", covariant=True)\n",
    "Subscriber = Callable[[T], None] # a callback\n",
    "Unsubscriber = Callable[[], None] # a callback to be used upon termination of the subscription\n",
    " \n",
    "class StoreProtocol(Protocol, Generic[covT]):\n",
    "    def subscribe(self, subscriber: Subscriber[T]) -> Unsubscriber: ..."
   ]
  },
  {
   "attachments": {},
   "cell_type": "markdown",
   "metadata": {},
   "source": [
    "## Readable and Writable Stores"
   ]
  },
  {
   "attachments": {},
   "cell_type": "markdown",
   "metadata": {},
   "source": [
    "### Definition"
   ]
  },
  {
   "cell_type": "code",
   "execution_count": 5,
   "metadata": {},
   "outputs": [],
   "source": [
    " \n",
    "class Base:  #see SimpleNamespace: https://docs.python.org/3/library/types.html\n",
    "    def __init__(self, /, **kwargs):\n",
    "        self.__dict__.update(kwargs)\n",
    "    def __repr__(self):\n",
    "        items = (f\"{k}={v!r}\" for k, v in self.__dict__.items())\n",
    "        return \"{}({})\".format(type(self).__name__, \", \".join(items))\n",
    "\n",
    "Updater = Callable[[T], T]\n",
    "\n",
    "class Store(Base, StoreProtocol[T]):\n",
    "    value: T\n",
    "    def __repr__(self) -> str:\n",
    "        return f\"{self.__class__.__name__}({self.value!r})\"\n",
    "    def subscribe(self, callback: Subscriber) -> Unsubscriber:\n",
    "        return lambda: None\n",
    "    def get(self) -> T: return self.value\n",
    "    def __eq__(self, other):\n",
    "        if isinstance(self, Store) and isinstance(other, Store):\n",
    "           return self.get() == other.get()\n",
    "        return NotImplemented\n",
    "    def __hash__(self):\n",
    "        return hash(self.get())\n",
    "    \n",
    "class Readable(Store[T]): pass\n",
    "\n",
    "class Writable(Store[T]):\n",
    "    set: Subscriber\n",
    "    update: Optional[Callable[[Updater],None]] = None"
   ]
  },
  {
   "attachments": {},
   "cell_type": "markdown",
   "metadata": {},
   "source": [
    "### `writable`: a Writable factory"
   ]
  },
  {
   "cell_type": "markdown",
   "metadata": {},
   "source": [
    "\n",
    "`writable` creates objects of type Writable.  \n",
    "\n",
    "\n",
    "**Why not implementing as a class?**\n",
    "\n",
    "Because we may want to protect some attributes."
   ]
  },
  {
   "cell_type": "code",
   "execution_count": 6,
   "metadata": {},
   "outputs": [],
   "source": [
    "def writable(initial_value: T) -> Writable[T]:\n",
    "    value: T = initial_value\n",
    "    subscribers: Set[Subscriber] = set()\n",
    "\n",
    "    def subscribe(callback: Subscriber) -> Unsubscriber:\n",
    "        subscribers.add(callback)\n",
    "        callback(value)\n",
    "    \n",
    "        def unsubscribe() -> None:\n",
    "            subscribers.remove(callback) if callback in subscribers else None\n",
    "        return unsubscribe\n",
    "    \n",
    "    def _set(new_value: T) -> None:\n",
    "        nonlocal value\n",
    "        if new_value != value:\n",
    "            value = new_value\n",
    "            for subscriber in subscribers:\n",
    "                subscriber(value)\n",
    "    def update(fn: Callable[[T], T]) -> None:\n",
    "        _set(fn(value))\n",
    "    return Writable(set=_set, update=update, subscribe=subscribe, get=lambda: value)"
   ]
  },
  {
   "attachments": {},
   "cell_type": "markdown",
   "metadata": {},
   "source": [
    "### A `Writable` in action"
   ]
  },
  {
   "attachments": {},
   "cell_type": "markdown",
   "metadata": {},
   "source": [
    "Let's create a `Writable`.  Remember that it returns an unsubscriber function."
   ]
  },
  {
   "cell_type": "code",
   "execution_count": 7,
   "metadata": {},
   "outputs": [
    {
     "name": "stdout",
     "output_type": "stream",
     "text": [
      "1: 1\n"
     ]
    },
    {
     "data": {
      "text/plain": [
       "Writable(1)"
      ]
     },
     "execution_count": 7,
     "metadata": {},
     "output_type": "execute_result"
    }
   ],
   "source": [
    "a = writable(1)\n",
    "u1 = a.subscribe(lambda x: print(\"1:\",x))\n",
    "a"
   ]
  },
  {
   "attachments": {},
   "cell_type": "markdown",
   "metadata": {},
   "source": [
    "A `writable` can be set from the outside. When it happens, all its subscribers will react."
   ]
  },
  {
   "cell_type": "code",
   "execution_count": 8,
   "metadata": {},
   "outputs": [
    {
     "name": "stdout",
     "output_type": "stream",
     "text": [
      "1: 2\n"
     ]
    }
   ],
   "source": [
    "a.set(2)"
   ]
  },
  {
   "cell_type": "markdown",
   "metadata": {},
   "source": [
    "After unsubscribing, the subscriber should not be called anymore:"
   ]
  },
  {
   "cell_type": "code",
   "execution_count": 9,
   "metadata": {},
   "outputs": [],
   "source": [
    "u1()\n",
    "a.set(3)"
   ]
  },
  {
   "cell_type": "markdown",
   "metadata": {},
   "source": [
    "If you try to unsubscibe twice, it won't break.  It just does nothing the second time."
   ]
  },
  {
   "cell_type": "code",
   "execution_count": 10,
   "metadata": {},
   "outputs": [],
   "source": [
    "u1()"
   ]
  },
  {
   "cell_type": "code",
   "execution_count": 11,
   "metadata": {},
   "outputs": [
    {
     "data": {
      "text/plain": [
       "(None, None)"
      ]
     },
     "execution_count": 11,
     "metadata": {},
     "output_type": "execute_result"
    }
   ],
   "source": [
    "u1(),u1()"
   ]
  },
  {
   "attachments": {},
   "cell_type": "markdown",
   "metadata": {},
   "source": [
    "### `readable`: a ~~Writable~~ Readable factory\n"
   ]
  },
  {
   "cell_type": "markdown",
   "metadata": {},
   "source": [
    "`readable` creates objects of type `Readable` by creating a `Writable` and protecting its `set` and `update` methods.  "
   ]
  },
  {
   "cell_type": "code",
   "execution_count": 12,
   "metadata": {},
   "outputs": [],
   "source": [
    "def readable(initial_value: T) -> Readable[T]:\n",
    "    res = writable(initial_value)\n",
    "    return Readable(subscribe=res.subscribe, value=res.value, get=lambda: res.value)"
   ]
  },
  {
   "cell_type": "code",
   "execution_count": 13,
   "metadata": {},
   "outputs": [
    {
     "data": {
      "text/plain": [
       "Readable('foo')"
      ]
     },
     "execution_count": 13,
     "metadata": {},
     "output_type": "execute_result"
    }
   ],
   "source": [
    "b = readable(\"foo\")\n",
    "b"
   ]
  },
  {
   "cell_type": "code",
   "execution_count": 14,
   "metadata": {},
   "outputs": [
    {
     "name": "stdout",
     "output_type": "stream",
     "text": [
      "2: foo\n"
     ]
    },
    {
     "data": {
      "text/plain": [
       "<function __main__.writable.<locals>.subscribe.<locals>.unsubscribe() -> 'None'>"
      ]
     },
     "execution_count": 14,
     "metadata": {},
     "output_type": "execute_result"
    }
   ],
   "source": [
    "b.subscribe(lambda x: print(\"2:\",x))"
   ]
  },
  {
   "attachments": {},
   "cell_type": "markdown",
   "metadata": {},
   "source": [
    "We can subscribe to our `readable`, but nothing happens, we cannot `set` a `Readable` from the outside."
   ]
  },
  {
   "cell_type": "code",
   "execution_count": 15,
   "metadata": {},
   "outputs": [
    {
     "name": "stdout",
     "output_type": "stream",
     "text": [
      "'Readable' object has no attribute 'set'\n"
     ]
    }
   ],
   "source": [
    "try:\n",
    "    b.set(\"bar\") # should fail\n",
    "except Exception as error:\n",
    "  print(error)\n"
   ]
  },
  {
   "attachments": {},
   "cell_type": "markdown",
   "metadata": {},
   "source": [
    "A `store` that does not change is not useful. A `Readable` is like a `writable` where there is only one \"thing\" from the outside that can change its value. Lets change `writable` to add this \"thing\", which we will call a `Notifier`."
   ]
  },
  {
   "cell_type": "code",
   "execution_count": 16,
   "metadata": {},
   "outputs": [],
   "source": [
    "Notifier = Callable[[Subscriber], Union[Unsubscriber, None]]"
   ]
  },
  {
   "cell_type": "code",
   "execution_count": 17,
   "metadata": {},
   "outputs": [],
   "source": [
    "def writable(initial_value: T, start: Notifier=lambda x: None) -> Writable[T]:\n",
    "    value: T = initial_value\n",
    "    stop: Optional[Unsubscriber] = None\n",
    "    subscribers: Set[Subscriber] = set()\n",
    "\n",
    "    def subscribe(callback: Subscriber) -> Unsubscriber:\n",
    "        subscribers.add(callback)\n",
    "        if (len(subscribers) == 1):\n",
    "            nonlocal stop\n",
    "            stop = start(callback) or (lambda: None)\n",
    "        callback(value)\n",
    "    \n",
    "        def unsubscribe() -> None:\n",
    "            subscribers.remove(callback) if callback in subscribers else None\n",
    "            if (len(subscribers) == 0):\n",
    "                nonlocal stop\n",
    "                stop() if stop else None\n",
    "                stop = None\n",
    "        return unsubscribe\n",
    "    \n",
    "    def _set(new_value: T) -> None:\n",
    "        nonlocal value\n",
    "        if new_value == value: \n",
    "            return None\n",
    "        value = new_value\n",
    "        if not stop: # store is not ready yet\n",
    "            return None\n",
    "        for subscriber in subscribers:\n",
    "                subscriber(value)\n",
    "        \n",
    "    def update(fn: Callable[[T], T]) -> None:\n",
    "        _set(fn(value))\n",
    "    return Writable(start=start, set=_set, update=update, subscribe=subscribe, get=lambda: value)"
   ]
  },
  {
   "cell_type": "markdown",
   "metadata": {},
   "source": [
    "The previous functionality still works."
   ]
  },
  {
   "cell_type": "code",
   "execution_count": 18,
   "metadata": {},
   "outputs": [],
   "source": [
    "del a"
   ]
  },
  {
   "cell_type": "code",
   "execution_count": 19,
   "metadata": {},
   "outputs": [
    {
     "name": "stdout",
     "output_type": "stream",
     "text": [
      "1: 1\n",
      "2: 1\n"
     ]
    }
   ],
   "source": [
    "a = writable(1)\n",
    "u1 = a.subscribe(lambda x: print(\"1:\",x))\n",
    "u2 = a.subscribe(lambda x: print(\"2:\",x))"
   ]
  },
  {
   "cell_type": "code",
   "execution_count": 20,
   "metadata": {},
   "outputs": [
    {
     "name": "stdout",
     "output_type": "stream",
     "text": [
      "2: 2\n",
      "1: 2\n"
     ]
    }
   ],
   "source": [
    "a.set(2)"
   ]
  },
  {
   "cell_type": "code",
   "execution_count": 21,
   "metadata": {},
   "outputs": [
    {
     "data": {
      "text/plain": [
       "(None, None)"
      ]
     },
     "execution_count": 21,
     "metadata": {},
     "output_type": "execute_result"
    }
   ],
   "source": [
    "u1(), u1()"
   ]
  },
  {
   "cell_type": "code",
   "execution_count": 22,
   "metadata": {},
   "outputs": [
    {
     "name": "stdout",
     "output_type": "stream",
     "text": [
      "2: 3\n"
     ]
    }
   ],
   "source": [
    "a.set(3)"
   ]
  },
  {
   "cell_type": "code",
   "execution_count": 23,
   "metadata": {},
   "outputs": [
    {
     "data": {
      "text/plain": [
       "(None, None)"
      ]
     },
     "execution_count": 23,
     "metadata": {},
     "output_type": "execute_result"
    }
   ],
   "source": [
    "u2(), u2()"
   ]
  },
  {
   "cell_type": "code",
   "execution_count": 24,
   "metadata": {},
   "outputs": [],
   "source": [
    "a.set(4)"
   ]
  },
  {
   "cell_type": "code",
   "execution_count": 25,
   "metadata": {},
   "outputs": [
    {
     "data": {
      "text/plain": [
       "4"
      ]
     },
     "execution_count": 25,
     "metadata": {},
     "output_type": "execute_result"
    }
   ],
   "source": [
    "a.get()"
   ]
  },
  {
   "cell_type": "code",
   "execution_count": 26,
   "metadata": {},
   "outputs": [
    {
     "name": "stdout",
     "output_type": "stream",
     "text": [
      "1: 4\n",
      "2: 4\n"
     ]
    }
   ],
   "source": [
    "u1 = a.subscribe(lambda x: print(\"1:\",x))\n",
    "u2 = a.subscribe(lambda x: print(\"2:\",x))"
   ]
  },
  {
   "cell_type": "code",
   "execution_count": 27,
   "metadata": {},
   "outputs": [
    {
     "data": {
      "text/plain": [
       "(None, None, 4)"
      ]
     },
     "execution_count": 27,
     "metadata": {},
     "output_type": "execute_result"
    }
   ],
   "source": [
    "u1(), u2(), a.get()"
   ]
  },
  {
   "cell_type": "code",
   "execution_count": 29,
   "metadata": {},
   "outputs": [
    {
     "data": {
      "text/plain": [
       "(Writable(1), 1, 4)"
      ]
     },
     "execution_count": 29,
     "metadata": {},
     "output_type": "execute_result"
    }
   ],
   "source": [
    "a, a.value, a.get()"
   ]
  },
  {
   "cell_type": "code",
   "execution_count": null,
   "metadata": {},
   "outputs": [],
   "source": [
    "y = lambda x: x\n",
    "b = y(a)"
   ]
  },
  {
   "cell_type": "code",
   "execution_count": null,
   "metadata": {},
   "outputs": [],
   "source": [
    "a, b"
   ]
  },
  {
   "cell_type": "markdown",
   "metadata": {},
   "source": [
    "But now, we can start the store with a `Notifier` that asynchronously set the value of the store from the outside."
   ]
  },
  {
   "cell_type": "markdown",
   "metadata": {},
   "source": [
    "Let's test by creating an asynchronous notifier."
   ]
  },
  {
   "cell_type": "code",
   "execution_count": null,
   "metadata": {},
   "outputs": [],
   "source": [
    "from threading import Event, Thread\n",
    "\n",
    "def every(interval, func, *args):\n",
    "    stopped = Event()\n",
    "    def loop():\n",
    "        while not stopped.wait(interval): # the first call is in `interval` secs\n",
    "            func(*args)\n",
    "    Thread(target=loop).start()    \n",
    "    return stopped.set"
   ]
  },
  {
   "cell_type": "code",
   "execution_count": null,
   "metadata": {},
   "outputs": [],
   "source": [
    "def start(set): # notifier\n",
    "    count = 0\n",
    "    def incrementCounter():\n",
    "        nonlocal count\n",
    "        count = count +1\n",
    "        set(count)\n",
    "    cancel = every(1, incrementCounter)\n",
    "    return cancel"
   ]
  },
  {
   "cell_type": "code",
   "execution_count": null,
   "metadata": {},
   "outputs": [],
   "source": [
    "def myset(x):\n",
    "    value = x\n",
    "    print(\"myset:\", value)"
   ]
  },
  {
   "cell_type": "code",
   "execution_count": null,
   "metadata": {},
   "outputs": [],
   "source": [
    "stop = start(myset)"
   ]
  },
  {
   "cell_type": "code",
   "execution_count": null,
   "metadata": {},
   "outputs": [],
   "source": [
    "import time\n",
    "\n",
    "time.sleep(3)\n",
    "stop()"
   ]
  },
  {
   "cell_type": "code",
   "execution_count": null,
   "metadata": {},
   "outputs": [],
   "source": [
    "b = writable(0, start)"
   ]
  },
  {
   "cell_type": "code",
   "execution_count": null,
   "metadata": {},
   "outputs": [],
   "source": [
    "b"
   ]
  },
  {
   "cell_type": "code",
   "execution_count": null,
   "metadata": {},
   "outputs": [],
   "source": [
    "u1 = b.subscribe(lambda x: print(\"1:\",x))"
   ]
  },
  {
   "cell_type": "code",
   "execution_count": null,
   "metadata": {},
   "outputs": [],
   "source": [
    "time.sleep(4)\n",
    "u1()"
   ]
  },
  {
   "cell_type": "markdown",
   "metadata": {},
   "source": [
    "Nice, it works. Now, let's fix the `Readable` store."
   ]
  },
  {
   "cell_type": "code",
   "execution_count": null,
   "metadata": {},
   "outputs": [],
   "source": [
    "class Readable(Store[T]):\n",
    "    value: T\n",
    "    start: Notifier\n",
    "    def __repr__(self) -> str:\n",
    "        return f\"{self.__class__.__name__}({self.value!r})\"\n",
    "    def subscribe(self, callback: Subscriber) -> Unsubscriber:\n",
    "        return lambda: None\n",
    "def readable(initial_value: T, start: Notifier) -> Readable[T]:\n",
    "    res = writable(initial_value, start)\n",
    "    return Readable(start=start, subscribe=res.subscribe, get=lambda: res.value)"
   ]
  },
  {
   "attachments": {},
   "cell_type": "markdown",
   "metadata": {},
   "source": [
    "Now, we need to provide a `Notifier` to create a `Readable` store:"
   ]
  },
  {
   "cell_type": "code",
   "execution_count": null,
   "metadata": {},
   "outputs": [],
   "source": [
    "try:\n",
    "    c = readable(0) # shoud fail\n",
    "except Exception as error:\n",
    "    print(error)"
   ]
  },
  {
   "attachments": {},
   "cell_type": "markdown",
   "metadata": {},
   "source": [
    "### A `Readable` in action"
   ]
  },
  {
   "cell_type": "code",
   "execution_count": null,
   "metadata": {},
   "outputs": [],
   "source": [
    "c = readable(0, start)\n",
    "c"
   ]
  },
  {
   "attachments": {},
   "cell_type": "markdown",
   "metadata": {},
   "source": [
    "Notice that while there is no subscribers, the `Notifier` is not started."
   ]
  },
  {
   "cell_type": "code",
   "execution_count": null,
   "metadata": {},
   "outputs": [],
   "source": [
    "time.sleep(3)\n",
    "c"
   ]
  },
  {
   "attachments": {},
   "cell_type": "markdown",
   "metadata": {},
   "source": [
    "The first subscriber starts the `Notifier`."
   ]
  },
  {
   "cell_type": "code",
   "execution_count": null,
   "metadata": {},
   "outputs": [],
   "source": [
    "stop = c.subscribe(lambda x: print(\"1:\",x))"
   ]
  },
  {
   "cell_type": "code",
   "execution_count": null,
   "metadata": {},
   "outputs": [],
   "source": [
    "time.sleep(3)\n",
    "stop()"
   ]
  },
  {
   "attachments": {},
   "cell_type": "markdown",
   "metadata": {},
   "source": [
    "## Derived Store"
   ]
  },
  {
   "cell_type": "markdown",
   "metadata": {},
   "source": [
    "A `Derived Store` takes a store and transforms it in another store."
   ]
  },
  {
   "cell_type": "code",
   "execution_count": null,
   "metadata": {},
   "outputs": [],
   "source": [
    "del a, b\n",
    "a = writable(42)\n",
    "a"
   ]
  },
  {
   "cell_type": "code",
   "execution_count": null,
   "metadata": {},
   "outputs": [],
   "source": [
    "def derived(source:Store, fn: Updater = lambda x:x) -> Store:\n",
    "    print('l0:',source)\n",
    "    def start(set):\n",
    "        return source.subscribe(lambda x: set(fn(x)))\n",
    "    return writable(source.value, start)"
   ]
  },
  {
   "cell_type": "code",
   "execution_count": null,
   "metadata": {},
   "outputs": [],
   "source": [
    "b = derived(a)\n",
    "b, a==b"
   ]
  },
  {
   "cell_type": "code",
   "execution_count": null,
   "metadata": {},
   "outputs": [],
   "source": [
    "u1 = a.subscribe(lambda x: print(\"a1:\",x))\n",
    "# u2 = b.subscribe(lambda x: print(\"b1:\",x))"
   ]
  },
  {
   "cell_type": "code",
   "execution_count": null,
   "metadata": {},
   "outputs": [],
   "source": [
    "a,b"
   ]
  },
  {
   "cell_type": "code",
   "execution_count": null,
   "metadata": {},
   "outputs": [],
   "source": [
    "a.set(43)"
   ]
  },
  {
   "cell_type": "code",
   "execution_count": null,
   "metadata": {},
   "outputs": [],
   "source": [
    "a,b"
   ]
  },
  {
   "cell_type": "code",
   "execution_count": null,
   "metadata": {},
   "outputs": [],
   "source": [
    "b.set(44)"
   ]
  },
  {
   "cell_type": "code",
   "execution_count": null,
   "metadata": {},
   "outputs": [],
   "source": [
    "def derived(source, fn: Updater) -> Readable:\n",
    "    print('a:', source)\n",
    "    def start(set): # notifier\n",
    "        nonlocal source\n",
    "        print('b:',source)\n",
    "        unsubscribe = source.subscribe(lambda x: set(fn(x)))\n",
    "        return unsubscribe\n",
    "    print('c:', source)\n",
    "    return readable(source.value, start)"
   ]
  },
  {
   "cell_type": "code",
   "execution_count": null,
   "metadata": {},
   "outputs": [],
   "source": [
    "del a\n",
    "a = writable(0)"
   ]
  },
  {
   "cell_type": "code",
   "execution_count": null,
   "metadata": {},
   "outputs": [],
   "source": [
    "u1 = a.subscribe(lambda x: print(\"a1:\",x))"
   ]
  },
  {
   "cell_type": "code",
   "execution_count": null,
   "metadata": {},
   "outputs": [],
   "source": [
    "a.set(1)"
   ]
  },
  {
   "cell_type": "code",
   "execution_count": null,
   "metadata": {},
   "outputs": [],
   "source": [
    "a.value"
   ]
  },
  {
   "cell_type": "code",
   "execution_count": null,
   "metadata": {},
   "outputs": [],
   "source": [
    "b = derived(a, lambda x: x+1)"
   ]
  },
  {
   "cell_type": "code",
   "execution_count": null,
   "metadata": {},
   "outputs": [],
   "source": [
    "a, b"
   ]
  },
  {
   "cell_type": "code",
   "execution_count": null,
   "metadata": {},
   "outputs": [],
   "source": [
    "u2 = b.subscribe(lambda x: print(\"b1:\",x))\n",
    "# u3 = b.subscribe(lambda x: print(\"b2:\",x))"
   ]
  },
  {
   "cell_type": "code",
   "execution_count": null,
   "metadata": {},
   "outputs": [],
   "source": [
    "a.set(1)"
   ]
  },
  {
   "cell_type": "code",
   "execution_count": null,
   "metadata": {},
   "outputs": [],
   "source": [
    "b"
   ]
  },
  {
   "cell_type": "code",
   "execution_count": null,
   "metadata": {},
   "outputs": [],
   "source": []
  },
  {
   "cell_type": "code",
   "execution_count": null,
   "metadata": {},
   "outputs": [],
   "source": []
  },
  {
   "cell_type": "code",
   "execution_count": null,
   "metadata": {},
   "outputs": [],
   "source": [
    "# U = TypeVar(\"U\")\n",
    "# Map = Callable[[T], Union[T, U]]\n",
    "# Derived = Callable[[Store, Map], Store] # derived does not need to emmit the same type as its source"
   ]
  },
  {
   "cell_type": "code",
   "execution_count": null,
   "metadata": {},
   "outputs": [],
   "source": [
    "def start(set): # notifier\n",
    "    count = 0\n",
    "    def incrementCounter():\n",
    "        nonlocal count\n",
    "        count = count +1\n",
    "        set(count)\n",
    "    cancel = every(1, incrementCounter)\n",
    "    return cancel"
   ]
  },
  {
   "cell_type": "code",
   "execution_count": null,
   "metadata": {},
   "outputs": [],
   "source": [
    "a = writable(0, start)"
   ]
  },
  {
   "cell_type": "code",
   "execution_count": null,
   "metadata": {},
   "outputs": [],
   "source": [
    "a"
   ]
  },
  {
   "cell_type": "code",
   "execution_count": null,
   "metadata": {},
   "outputs": [],
   "source": [
    "stop = a.subscribe(lambda x: print(\"1:\",x))"
   ]
  },
  {
   "cell_type": "code",
   "execution_count": null,
   "metadata": {},
   "outputs": [],
   "source": [
    "stop()"
   ]
  },
  {
   "cell_type": "code",
   "execution_count": null,
   "metadata": {},
   "outputs": [],
   "source": [
    "fn = lambda x: x + 1"
   ]
  },
  {
   "cell_type": "code",
   "execution_count": null,
   "metadata": {},
   "outputs": [],
   "source": []
  },
  {
   "cell_type": "code",
   "execution_count": null,
   "metadata": {},
   "outputs": [],
   "source": [
    "a"
   ]
  },
  {
   "cell_type": "code",
   "execution_count": null,
   "metadata": {},
   "outputs": [],
   "source": [
    "derived()"
   ]
  }
 ],
 "metadata": {
  "kernelspec": {
   "display_name": "fmnist5",
   "language": "python",
   "name": "python3"
  },
  "language_info": {
   "codemirror_mode": {
    "name": "ipython",
    "version": 3
   },
   "file_extension": ".py",
   "mimetype": "text/x-python",
   "name": "python",
   "nbconvert_exporter": "python",
   "pygments_lexer": "ipython3",
   "version": "3.9.16"
  },
  "orig_nbformat": 4
 },
 "nbformat": 4,
 "nbformat_minor": 2
}
