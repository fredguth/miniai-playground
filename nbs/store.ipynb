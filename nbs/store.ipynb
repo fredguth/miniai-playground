{
 "cells": [
  {
   "cell_type": "code",
   "execution_count": 1,
   "metadata": {},
   "outputs": [],
   "source": [
    "import nbdev"
   ]
  },
  {
   "cell_type": "code",
   "execution_count": 2,
   "metadata": {},
   "outputs": [],
   "source": [
    "#| default_exp store"
   ]
  },
  {
   "cell_type": "code",
   "execution_count": 3,
   "metadata": {},
   "outputs": [],
   "source": [
    "#|export\n",
    "from __future__ import annotations\n",
    "from enum import Enum\n",
    "from types import SimpleNamespace\n",
    "from typing import List, Callable, TypeVar,  Generic, Sequence, Union, Optional, Any, Set, Tuple, Dict, Protocol, NewType, Literal, TypedDict\n",
    "from dataclasses import dataclass\n",
    "from result import Ok, Err, Result #type: ignore"
   ]
  },
  {
   "attachments": {},
   "cell_type": "markdown",
   "metadata": {},
   "source": [
    "### Svelte Store contract"
   ]
  },
  {
   "attachments": {},
   "cell_type": "markdown",
   "metadata": {},
   "source": [
    "1. A store must contain a `.subscribe` method, which must accept as its argument a `subscription function`(aka Subscriber or Callback). This `subscription function` must be immediately and synchronously called with the store's current value upon calling `subscribe`. All of a store's active subscription functions must later be synchronously called whenever the store's value changes.\n",
    "\n",
    "1. The `.subscribe` method must return an `unsubscribe function`(aka Unsubscriber). Calling an `unsubscribe function` must `stop` its subscription, and its corresponding `subscription function` must not be called again by the store.\n",
    "\n",
    "1. A store may optionally contain a `.set` method, which must accept as its argument a new value for the store, and which synchronously calls all of the store's active subscription functions. Such a store is called a writable store.\n",
    "\n",
    "\n",
    "~~For interoperability with RxJS Observables, the .subscribe method is also allowed to return an object with an .unsubscribe method, rather than return the unsubscription function directly. Note however that unless .subscribe synchronously calls the subscription (which is not required by the Observable spec), Svelte will see the value of the store as undefined until it does.~~\n",
    "\n",
    "[Store Contract Documentation](https://svelte.dev/docs#component-format-script-4-prefix-stores-with-$-to-access-their-values-store-contract)"
   ]
  },
  {
   "cell_type": "code",
   "execution_count": 4,
   "metadata": {},
   "outputs": [],
   "source": [
    "#| export\n",
    "\n",
    "T = TypeVar(\"T\")\n",
    "covT = TypeVar(\"covT\", covariant=True)\n",
    "Subscriber = Callable[[T], None] # a callback\n",
    "Unsubscriber = Callable[[], None] # a callback to be used upon termination of the subscription\n",
    " \n",
    "class Store(Protocol, Generic[covT]):\n",
    "    def subscribe(self, subscriber: Subscriber[T]) -> Unsubscriber: ...\n",
    "    \n",
    "class Base:  #see SimpleNamespace: https://docs.python.org/3/library/types.html\n",
    "    def __init__(self, /, **kwargs):\n",
    "        self.__dict__.update(kwargs)\n",
    "    def __repr__(self):\n",
    "        items = (f\"{k}={v!r}\" for k, v in self.__dict__.items())\n",
    "        return \"{}({})\".format(type(self).__name__, \", \".join(items))\n",
    "    def __eq__(self, other):\n",
    "        if isinstance(self, Base) and isinstance(other, Base):\n",
    "           return self.__dict__ == other.__dict__\n",
    "        return NotImplemented"
   ]
  },
  {
   "cell_type": "code",
   "execution_count": 5,
   "metadata": {},
   "outputs": [],
   "source": [
    "Updater = Callable[[T], T]\n",
    "\n",
    "class Readable(Base, Store[T]):\n",
    "    value: T\n",
    "    def __repr__(self) -> str:\n",
    "        return f\"{self.__class__.__name__}({self.value!r})\"\n",
    "    def subscribe(self, callback: Subscriber) -> Unsubscriber:\n",
    "        return lambda: None\n",
    "\n",
    "class Writable(Readable[T]):\n",
    "    set: Subscriber\n",
    "    update: Optional[Callable[[Updater],None]] = None"
   ]
  },
  {
   "cell_type": "code",
   "execution_count": 6,
   "metadata": {},
   "outputs": [],
   "source": [
    "def writable(initial_value: T) -> Writable[T]:\n",
    "    value: T = initial_value\n",
    "    subscribers: Set[Subscriber] = set()\n",
    "\n",
    "    def subscribe(callback: Subscriber) -> Unsubscriber:\n",
    "        subscribers.add(callback)\n",
    "        callback(value)\n",
    "    \n",
    "        def unsubscribe() -> None:\n",
    "            subscribers.remove(callback) if callback in subscribers else None\n",
    "        return unsubscribe\n",
    "    \n",
    "    def _set(new_value: T) -> None:\n",
    "        nonlocal value\n",
    "        if new_value != value:\n",
    "            value = new_value\n",
    "            for subscriber in subscribers:\n",
    "                subscriber(value)\n",
    "    def update(fn: Callable[[T], T]) -> None:\n",
    "        _set(fn(value))\n",
    "    return Writable(set=_set, update=update, subscribe=subscribe, value=value, get=lambda: value)"
   ]
  },
  {
   "cell_type": "code",
   "execution_count": 7,
   "metadata": {},
   "outputs": [
    {
     "name": "stdout",
     "output_type": "stream",
     "text": [
      "1: 1\n"
     ]
    },
    {
     "data": {
      "text/plain": [
       "Writable(1)"
      ]
     },
     "execution_count": 7,
     "metadata": {},
     "output_type": "execute_result"
    }
   ],
   "source": [
    "a = writable(1)\n",
    "u1 = a.subscribe(lambda x: print(\"1:\",x))\n",
    "a"
   ]
  },
  {
   "cell_type": "code",
   "execution_count": 8,
   "metadata": {},
   "outputs": [
    {
     "name": "stdout",
     "output_type": "stream",
     "text": [
      "1: 2\n"
     ]
    }
   ],
   "source": [
    "a.set(2)"
   ]
  },
  {
   "cell_type": "code",
   "execution_count": 9,
   "metadata": {},
   "outputs": [],
   "source": [
    "u1()"
   ]
  },
  {
   "cell_type": "code",
   "execution_count": 10,
   "metadata": {},
   "outputs": [],
   "source": [
    "a.set(3)"
   ]
  },
  {
   "cell_type": "code",
   "execution_count": 11,
   "metadata": {},
   "outputs": [],
   "source": [
    "u1()"
   ]
  },
  {
   "cell_type": "code",
   "execution_count": 12,
   "metadata": {},
   "outputs": [
    {
     "data": {
      "text/plain": [
       "(None, None)"
      ]
     },
     "execution_count": 12,
     "metadata": {},
     "output_type": "execute_result"
    }
   ],
   "source": [
    "u1(),u1()"
   ]
  },
  {
   "cell_type": "code",
   "execution_count": 13,
   "metadata": {},
   "outputs": [],
   "source": [
    "def readable(initial_value: T) -> Readable:\n",
    "    res = writable(initial_value)\n",
    "    return Readable(subscribe=res.subscribe, value=res.value, get=lambda: res.value)"
   ]
  },
  {
   "cell_type": "code",
   "execution_count": 14,
   "metadata": {},
   "outputs": [
    {
     "data": {
      "text/plain": [
       "Readable('foo')"
      ]
     },
     "execution_count": 14,
     "metadata": {},
     "output_type": "execute_result"
    }
   ],
   "source": [
    "b = readable(\"foo\")\n",
    "b"
   ]
  },
  {
   "cell_type": "code",
   "execution_count": 15,
   "metadata": {},
   "outputs": [
    {
     "name": "stdout",
     "output_type": "stream",
     "text": [
      "2: foo\n"
     ]
    },
    {
     "data": {
      "text/plain": [
       "<function __main__.writable.<locals>.subscribe.<locals>.unsubscribe() -> 'None'>"
      ]
     },
     "execution_count": 15,
     "metadata": {},
     "output_type": "execute_result"
    }
   ],
   "source": [
    "b.subscribe(lambda x: print(\"2:\",x))"
   ]
  },
  {
   "cell_type": "code",
   "execution_count": 16,
   "metadata": {},
   "outputs": [
    {
     "name": "stdout",
     "output_type": "stream",
     "text": [
      "'Readable' object has no attribute 'set'\n"
     ]
    }
   ],
   "source": [
    "try:\n",
    "    b.set(\"bar\")\n",
    "except Exception as error:\n",
    "  print(error)\n"
   ]
  },
  {
   "attachments": {},
   "cell_type": "markdown",
   "metadata": {},
   "source": [
    "A `store` that does not change is not useful. A `Readable` is like a writable where there is only one \"thing\" that can change its value. Lets change writable to add this \"thing\", which we will call a `Notifier`."
   ]
  },
  {
   "cell_type": "code",
   "execution_count": 17,
   "metadata": {},
   "outputs": [],
   "source": [
    "Notifier = Callable[[Subscriber], Union[Unsubscriber, None]]"
   ]
  },
  {
   "cell_type": "code",
   "execution_count": 18,
   "metadata": {},
   "outputs": [],
   "source": [
    "def writable(initial_value: T, start: Notifier=lambda x: None) -> Writable[T]:\n",
    "    value: T = initial_value\n",
    "    stop: Optional[Unsubscriber] = None\n",
    "    subscribers: Set[Subscriber] = set()\n",
    "\n",
    "    def subscribe(callback: Subscriber) -> Unsubscriber:\n",
    "        subscribers.add(callback)\n",
    "        if (len(subscribers) == 1):\n",
    "            stop = start(callback) or (lambda: None)\n",
    "        callback(value)\n",
    "    \n",
    "        def unsubscribe() -> None:\n",
    "            subscribers.remove(callback) if callback in subscribers else None\n",
    "            if (len(subscribers) == 0):\n",
    "                nonlocal stop\n",
    "                stop() if stop else None\n",
    "                stop = None\n",
    "        return unsubscribe\n",
    "    \n",
    "    def _set(new_value: T) -> None:\n",
    "        nonlocal value\n",
    "        if new_value == value: return None\n",
    "        if not stop: # store is not ready yet\n",
    "            return None\n",
    "        value = new_value\n",
    "        for subscriber in subscribers:\n",
    "                subscriber(value)\n",
    "        \n",
    "    def update(fn: Callable[[T], T]) -> None:\n",
    "        _set(fn(value))\n",
    "    return Writable(start=start, set=_set, update=update, subscribe=subscribe, value=value, get=lambda: value)"
   ]
  },
  {
   "cell_type": "code",
   "execution_count": 19,
   "metadata": {},
   "outputs": [
    {
     "name": "stdout",
     "output_type": "stream",
     "text": [
      "1: 1\n"
     ]
    },
    {
     "data": {
      "text/plain": [
       "Writable(1)"
      ]
     },
     "execution_count": 19,
     "metadata": {},
     "output_type": "execute_result"
    }
   ],
   "source": [
    "a = writable(1)\n",
    "u1 = a.subscribe(lambda x: print(\"1:\",x))\n",
    "a"
   ]
  },
  {
   "cell_type": "code",
   "execution_count": 20,
   "metadata": {},
   "outputs": [
    {
     "data": {
      "text/plain": [
       "(None, None)"
      ]
     },
     "execution_count": 20,
     "metadata": {},
     "output_type": "execute_result"
    }
   ],
   "source": [
    "u1(), u1()"
   ]
  },
  {
   "cell_type": "code",
   "execution_count": 21,
   "metadata": {},
   "outputs": [],
   "source": [
    "from threading import Event, Thread\n",
    "\n",
    "def every(interval, func, *args):\n",
    "    stopped = Event()\n",
    "    def loop():\n",
    "        while not stopped.wait(interval): # the first call is in `interval` secs\n",
    "            func(*args)\n",
    "    Thread(target=loop).start()    \n",
    "    return stopped.set"
   ]
  },
  {
   "cell_type": "code",
   "execution_count": 22,
   "metadata": {},
   "outputs": [],
   "source": [
    "def start(set):\n",
    "    count = 0\n",
    "    def incrementCounter():\n",
    "        nonlocal count\n",
    "        count = count +1\n",
    "        set(count)\n",
    "    cancel = every(1, incrementCounter)\n",
    "    return cancel"
   ]
  },
  {
   "cell_type": "code",
   "execution_count": 23,
   "metadata": {},
   "outputs": [],
   "source": [
    "def myset(x):\n",
    "    value = x\n",
    "    print(\"myset:\", value)"
   ]
  },
  {
   "cell_type": "code",
   "execution_count": 24,
   "metadata": {},
   "outputs": [],
   "source": [
    "stop = start(myset)"
   ]
  },
  {
   "cell_type": "code",
   "execution_count": 25,
   "metadata": {},
   "outputs": [
    {
     "name": "stdout",
     "output_type": "stream",
     "text": [
      "myset: 1\n",
      "myset: 2\n",
      "myset: 3\n"
     ]
    }
   ],
   "source": [
    "import time\n",
    "\n",
    "time.sleep(3)\n",
    "stop()"
   ]
  },
  {
   "cell_type": "code",
   "execution_count": 26,
   "metadata": {},
   "outputs": [],
   "source": [
    "b = writable(0, start)"
   ]
  },
  {
   "cell_type": "code",
   "execution_count": 27,
   "metadata": {},
   "outputs": [
    {
     "data": {
      "text/plain": [
       "Writable(0)"
      ]
     },
     "execution_count": 27,
     "metadata": {},
     "output_type": "execute_result"
    }
   ],
   "source": [
    "b"
   ]
  },
  {
   "cell_type": "code",
   "execution_count": 28,
   "metadata": {},
   "outputs": [
    {
     "name": "stdout",
     "output_type": "stream",
     "text": [
      "1: 0\n"
     ]
    },
    {
     "name": "stdout",
     "output_type": "stream",
     "text": [
      "1: 1\n",
      "1: 2\n",
      "1: 3\n",
      "1: 4\n",
      "1: 5\n",
      "1: 6\n"
     ]
    }
   ],
   "source": [
    "u1 = b.subscribe(lambda x: print(\"1:\",x))"
   ]
  },
  {
   "cell_type": "code",
   "execution_count": 29,
   "metadata": {},
   "outputs": [],
   "source": [
    "time.sleep(4)\n",
    "u1()"
   ]
  },
  {
   "cell_type": "code",
   "execution_count": 30,
   "metadata": {},
   "outputs": [],
   "source": [
    "class Readable(Base, Store[T]):\n",
    "    value: T\n",
    "    start: Notifier\n",
    "    def __repr__(self) -> str:\n",
    "        return f\"{self.__class__.__name__}({self.value!r})\"\n",
    "    def subscribe(self, callback: Subscriber) -> Unsubscriber:\n",
    "        return lambda: None\n",
    "def readable(initial_value: T) -> Readable[T]:\n",
    "    res = writable(initial_value)\n",
    "    return Readable(start=start, subscribe=res.subscribe, value=res.value, get=lambda: res.value)"
   ]
  },
  {
   "cell_type": "code",
   "execution_count": 31,
   "metadata": {},
   "outputs": [],
   "source": []
  },
  {
   "cell_type": "code",
   "execution_count": null,
   "metadata": {},
   "outputs": [],
   "source": []
  },
  {
   "cell_type": "code",
   "execution_count": null,
   "metadata": {},
   "outputs": [],
   "source": []
  },
  {
   "cell_type": "code",
   "execution_count": null,
   "metadata": {},
   "outputs": [],
   "source": []
  },
  {
   "cell_type": "code",
   "execution_count": null,
   "metadata": {},
   "outputs": [],
   "source": []
  },
  {
   "cell_type": "code",
   "execution_count": null,
   "metadata": {},
   "outputs": [],
   "source": [
    "t.cancel()"
   ]
  },
  {
   "cell_type": "code",
   "execution_count": null,
   "metadata": {},
   "outputs": [],
   "source": [
    "class Start(Protocol):\n",
    "    def __call__(self, set: Subscriber) -> Unsubscriber: ..."
   ]
  },
  {
   "cell_type": "code",
   "execution_count": null,
   "metadata": {},
   "outputs": [],
   "source": [
    "def start(set):\n",
    "    \n",
    "export const time = readable(new Date(), function start(set) {\n",
    "\tconst interval = setInterval(() => {\n",
    "\t\tset(new Date());\n",
    "\t}, 1000);\n",
    "\n",
    "\treturn function stop() {\n",
    "\t\tclearInterval(interval);\n",
    "\t};\n",
    "});\n"
   ]
  },
  {
   "cell_type": "code",
   "execution_count": null,
   "metadata": {},
   "outputs": [],
   "source": [
    "def readable(value: Optional[T], start: Optional[TNotifier]=None) -> TReadable:\n",
    "    \"\"\"Readable Store factory\"\"\"\n",
    "    return {\"subscribe\": writable(value, start)['subscribe']}"
   ]
  },
  {
   "cell_type": "code",
   "execution_count": null,
   "metadata": {},
   "outputs": [],
   "source": [
    "from functools import wraps\n",
    "\n",
    "#https://gist.github.com/JulienPalard/021f1c7332507d6a494b\n",
    "\n",
    "def curry(func):\n",
    "    \"\"\"\n",
    "    >>> @curry\n",
    "    ... def foo(a, b, c):\n",
    "    ...     return a + b + c\n",
    "    >>> foo(1)\n",
    "    <function __main__.foo>\n",
    "    \"\"\"\n",
    "    @wraps(func)\n",
    "    def curried(*args, **kwargs):\n",
    "        if len(args) + len(kwargs) >= func.__code__.co_argcount:\n",
    "            return func(*args, **kwargs)\n",
    "\n",
    "        @wraps(func)\n",
    "        def new_curried(*args2, **kwargs2):\n",
    "            return curried(*(args + args2), **dict(kwargs, **kwargs2))\n",
    "\n",
    "        return new_curried\n",
    "\n",
    "    return curried"
   ]
  },
  {
   "cell_type": "code",
   "execution_count": null,
   "metadata": {},
   "outputs": [],
   "source": []
  },
  {
   "cell_type": "code",
   "execution_count": null,
   "metadata": {},
   "outputs": [],
   "source": []
  },
  {
   "cell_type": "code",
   "execution_count": null,
   "metadata": {},
   "outputs": [],
   "source": [
    "def writable(init) {\n",
    "\tlet _val = init;\n",
    "\tconst subs = [];\n",
    "\n",
    "\tconst subscribe = (cb) => {\n",
    "\t\tsubs.push(cb);\n",
    "\t\tcb(_val);\n",
    "\n",
    "\t\treturn () => {\n",
    "\t\t\tconst index = subs.findIndex((fn) => fn === cb);\n",
    "\t\t\tsubs.splice(index, 1);\n",
    "\t\t};\n",
    "\t};\n",
    "\n",
    "\tconst set = (v) => {\n",
    "\t\t_val = v;\n",
    "\t\tsubs.forEach((fn) => fn(_val));\n",
    "\t};\n",
    "\n",
    "\tconst update = (fn) => set(fn(_val));\n",
    "\n",
    "\treturn { subscribe, set, update };\n",
    "}"
   ]
  },
  {
   "cell_type": "code",
   "execution_count": null,
   "metadata": {},
   "outputs": [],
   "source": []
  },
  {
   "cell_type": "code",
   "execution_count": null,
   "metadata": {},
   "outputs": [],
   "source": []
  },
  {
   "cell_type": "code",
   "execution_count": null,
   "metadata": {},
   "outputs": [],
   "source": [
    "#| export\n",
    "\n",
    "T = TypeVar(\"T\")\n",
    "TEvent = TypeVar('TEvent', bound=object) \n",
    "THandler = Callable[[TEvent], None] \n",
    "TSubscriber = Union[Callable[[T], None], Callable[[T], Result[Ok[T], Err[TEvent]]]]  # action to invoke when the store changes\n",
    "TUnsubscriber = Callable[[], None] # action to invoke upon graceful termination of the subscription\n",
    "# TUpdater = Callable[[T, TEvent], T] # action to invoke to update the store, aka reducer\n",
    "TUpdater = Callable[[T], T]\n",
    "noop = lambda *x: None\n",
    "TNotifier = Callable[[TSubscriber],TUnsubscriber]\n",
    "class TObserver(Protocol):\n",
    "    def __call__(self, msg: TEvent) -> None: ... # type: ignore\n",
    "class TObservable(Protocol):\n",
    "    def subscribe(self, subscriber: TSubscriber) -> TUnsubscriber: ...\n",
    "class TSubject(TObservable, TObserver, Protocol): ...\n",
    "class TActions(TypedDict, total=False):\n",
    "    START: Optional[Callable]\n",
    "    UPDATE: TSubscriber\n",
    "    STOP: Optional[Callable]\n",
    "\n"
   ]
  },
  {
   "cell_type": "code",
   "execution_count": null,
   "metadata": {},
   "outputs": [],
   "source": [
    "class Base(Generic[T]):\n",
    "    def __init__(self, **kwargs):\n",
    "        self.__dict__.update(kwargs)\n",
    "        \n",
    "    def __eq__(self, other):\n",
    "        return self._value == other._value # you might want to add some type checking here\n",
    "        \n",
    "    def __repr__(self) -> str: return f\"{self.__class__.__name__}({str(self._value)})\"\n",
    "\n",
    "class Readable(Base[T], TObservable):\n",
    "    def subscribe(self, subscriber: TSubscriber) -> TUnsubscriber:\n",
    "        def unsubscribe()-> None: pass\n",
    "        return unsubscribe\n",
    "class Writable(Readable, TObservable): \n",
    "    def set(self, new_value: T) -> None: pass\n",
    "    def update(self, fn: TUpdater) -> None: pass"
   ]
  },
  {
   "cell_type": "code",
   "execution_count": null,
   "metadata": {},
   "outputs": [],
   "source": [
    "def writable(value: Optional[T], start: Optional[TNotifier]=None) -> Writable:\n",
    "    \"\"\"Writable Store factory\"\"\"\n",
    "    stop: Optional[TUnsubscriber] = None\n",
    "    subscribers: Set[TSubscriber] = set()\n",
    "    def _set(new_value: T) -> None:\n",
    "        nonlocal value\n",
    "        if (new_value != value) and (stop):\n",
    "            value = new_value\n",
    "            for subscriber in subscribers:\n",
    "                subscriber(value)\n",
    "    def update(fn: TUpdater) -> None:\n",
    "        _set(fn(value))\n",
    "    def subscribe(subscriber: TSubscriber) -> TUnsubscriber:\n",
    "        subscribers.add(subscriber)\n",
    "        if (len(subscribers) == 1) and (start is not None): stop = start(_set)\n",
    "        subscriber(value)\n",
    "        def unsubscribe()-> None:\n",
    "            subscribers.remove(subscriber) if subscriber in subscribers else None\n",
    "            nonlocal stop\n",
    "            if (len(subscribers) == 0) and (stop is not None): \n",
    "                stop() # type: ignore\n",
    "                stop = None\n",
    "        return unsubscribe\n",
    "    return  Writable(set=_set, update= update, subscribe= subscribe, _value=value)"
   ]
  },
  {
   "cell_type": "code",
   "execution_count": null,
   "metadata": {},
   "outputs": [],
   "source": [
    "\n",
    "count = writable(1)"
   ]
  },
  {
   "cell_type": "code",
   "execution_count": null,
   "metadata": {},
   "outputs": [],
   "source": [
    "count.set"
   ]
  },
  {
   "cell_type": "code",
   "execution_count": null,
   "metadata": {},
   "outputs": [],
   "source": [
    "count.subscribe(lambda x: print(x))"
   ]
  },
  {
   "cell_type": "code",
   "execution_count": null,
   "metadata": {},
   "outputs": [],
   "source": [
    "count"
   ]
  },
  {
   "cell_type": "code",
   "execution_count": null,
   "metadata": {},
   "outputs": [],
   "source": [
    "def readable(value: Optional[T], start: Optional[TNotifier]=None) -> TReadable:\n",
    "    \"\"\"Readable Store factory\"\"\"\n",
    "    return {\"subscribe\": writable(value, start)['subscribe']}"
   ]
  },
  {
   "cell_type": "code",
   "execution_count": null,
   "metadata": {},
   "outputs": [],
   "source": [
    "#| export\n",
    "\n",
    "T = TypeVar(\"T\")\n",
    "\n",
    "TSubscriber = Callable[[T], None]\n",
    "TUnsubscriber = Callable[[], None]\n",
    "TUpdater = Callable[[T], T]\n",
    "TStartStop = Callable[[TSubscriber], Union[TUnsubscriber, None]]\n",
    "\n",
    "    \n",
    "class Readable(Generic[T]):\n",
    "    def __init__(self, value: T, start: Optional[TStartStop]=None) -> None:\n",
    "        self.value: T = value\n",
    "        self.start: Optional[TStartStop] = start\n",
    "        self.subscribers: set[TSubscriber] = set() # callback list\n",
    "\n",
    "    def __getattr__(self, name):\n",
    "        return getattr(self.value, name)\n",
    "\n",
    "    def __repr__(self) -> str:\n",
    "        return f\"{self.__class__.__name__}({self.value!r})\"\n",
    "\n",
    "    def __str__(self) -> str: return str(self.value)\n",
    "\n",
    "    def get(self) -> T: return self.value\n",
    "\n",
    "    def _set(self, new_value: T) -> None:\n",
    "        if new_value != self.value: self.value = new_value\n",
    "        for subscriber in self.subscribers: subscriber(self.value)\n",
    "\n",
    "    def subscribe(self, subscriber: TSubscriber) -> TUnsubscriber:\n",
    "        self.subscribers.add(subscriber)\n",
    "        subscriber(self.value)\n",
    "        if (len(self.subscribers) == 1):\n",
    "             if self.start is not None: \n",
    "                self.stop: Union[TUnsubscriber, None] =  self.start(self._set) \n",
    "        def unsubscribe()-> None:\n",
    "            self.subscribers.remove(subscriber)\n",
    "        if isinstance(subscriber, Subscriber): subscriber.add_subscription(unsubscribe)\n",
    "        return unsubscribe\n",
    "\n",
    "class Writable(Readable[T]):\n",
    "\n",
    "    def set(self, new_value: T) -> None:\n",
    "        self._set(new_value)\n",
    "    \n",
    "    def update(self, fn: TUpdater) -> None: self.set(fn(self.value))\n",
    "\n",
    "\n",
    "class Subscriber(Generic[T]):\n",
    "    \"\"\" Represents a subscriber (a callback) to a store (an observable).\"\"\"\n",
    "    def __init__(self, fn: Callable[[T], None], observable: Optional[Union[Readable[T], Writable[T]]]) -> None:\n",
    "        self.fn = fn\n",
    "        self.subscriptions: Set[Callable[[], None]] = set()\n",
    "\n",
    "    def __call__(self, value: T) -> None:\n",
    "        self.fn(value)\n",
    "\n",
    "    def __eq__(self, other: Callable[[T], None]) -> bool:\n",
    "        return self.fn == other.fn\n",
    "\n",
    "    def __hash__(self) -> int:\n",
    "        return hash(self.fn)\n",
    "    \n",
    "    def __del__(self)-> None:\n",
    "        for unsubscribe in self.subscriptions: unsubscribe()\n",
    "        \n",
    "    def add_subscription(self, unsubscribe: Callable[[], None])-> None:\n",
    "        self.subscriptions.add(unsubscribe)\n",
    "    \n"
   ]
  },
  {
   "cell_type": "code",
   "execution_count": null,
   "metadata": {},
   "outputs": [],
   "source": [
    "a = set()\n",
    "a.add(1), a.add('foo')\n",
    "a, a[0]"
   ]
  },
  {
   "cell_type": "code",
   "execution_count": null,
   "metadata": {},
   "outputs": [],
   "source": [
    "a.add(2)\n",
    "a.add(object())\n",
    "a.add(1.0)"
   ]
  },
  {
   "cell_type": "code",
   "execution_count": null,
   "metadata": {},
   "outputs": [],
   "source": [
    "[x for x in a]"
   ]
  },
  {
   "cell_type": "code",
   "execution_count": null,
   "metadata": {},
   "outputs": [],
   "source": [
    "Stores = Union[Readable[T], Sequence[Readable[T]]]\n",
    "Observable = Union[Readable[T], Writable[T]]"
   ]
  },
  {
   "cell_type": "code",
   "execution_count": null,
   "metadata": {},
   "outputs": [],
   "source": [
    "def derived (stores: Stores. fn: Callable) -> Readable:\n",
    "\"\"\"Derived value store by synchronizing one or more readable stores and\n",
    "applying an aggregation function over its input values.\"\"\""
   ]
  },
  {
   "cell_type": "code",
   "execution_count": null,
   "metadata": {
    "vscode": {
     "languageId": "javascript"
    }
   },
   "outputs": [],
   "source": [
    "export function writable<T>(value?: T, start: StartStopNotifier<T> = noop): Writable<T> {\n",
    "\tlet stop: Unsubscriber;\n",
    "\tconst subscribers: Set<SubscribeInvalidateTuple<T>> = new Set();\n",
    "\n",
    "\tfunction set(new_value: T): void {\n",
    "\t\tif (safe_not_equal(value, new_value)) {\n",
    "\t\t\tvalue = new_value;\n",
    "\t\t\tif (stop) { // store is ready\n",
    "\t\t\t\tconst run_queue = !subscriber_queue.length;\n",
    "\t\t\t\tfor (const subscriber of subscribers) {\n",
    "\t\t\t\t\tsubscriber[1]();\n",
    "\t\t\t\t\tsubscriber_queue.push(subscriber, value);\n",
    "\t\t\t\t}\n",
    "\t\t\t\tif (run_queue) {\n",
    "\t\t\t\t\tfor (let i = 0; i < subscriber_queue.length; i += 2) {\n",
    "\t\t\t\t\t\tsubscriber_queue[i][0](subscriber_queue[i + 1]);\n",
    "\t\t\t\t\t}\n",
    "\t\t\t\t\tsubscriber_queue.length = 0;\n",
    "\t\t\t\t}\n",
    "\t\t\t}\n",
    "\t\t}\n",
    "\t}\n",
    "\n",
    "\tfunction update(fn: Updater<T>): void {\n",
    "\t\tset(fn(value));\n",
    "\t}\n",
    "\n",
    "\tfunction subscribe(run: Subscriber<T>, invalidate: Invalidator<T> = noop): Unsubscriber {\n",
    "\t\tconst subscriber: SubscribeInvalidateTuple<T> = [run, invalidate];\n",
    "\t\tsubscribers.add(subscriber);\n",
    "\t\tif (subscribers.size === 1) {\n",
    "\t\t\tstop = start(set) || noop;\n",
    "\t\t}\n",
    "\t\trun(value);\n",
    "\n",
    "\t\treturn () => {\n",
    "\t\t\tsubscribers.delete(subscriber);\n",
    "\t\t\tif (subscribers.size === 0) {\n",
    "\t\t\t\tstop();\n",
    "\t\t\t\tstop = null;\n",
    "\t\t\t}\n",
    "\t\t};\n",
    "\t}\n",
    "\n",
    "\treturn { set, update, subscribe };\n",
    "}"
   ]
  },
  {
   "cell_type": "code",
   "execution_count": null,
   "metadata": {},
   "outputs": [],
   "source": [
    "len(one)\n"
   ]
  },
  {
   "cell_type": "code",
   "execution_count": null,
   "metadata": {},
   "outputs": [],
   "source": [
    "\n",
    "\n",
    "class Derived:\n",
    "    def __init__(self, stores: Stores, fn: Callable[[Any], Any], initial_value: Any):\n",
    "        self.stores = stores\n",
    "        self.fn = fn\n",
    "        self.initial_value = initial_value\n",
    "        self.value = initial_value\n",
    "        self.subscribers: List[Callable[[Any], None]] = []\n",
    "        self._unsubscribe: List[Callable[[], None]] = []\n",
    "        self._set = self.set\n",
    "        self.set = self.update\n",
    "\n",
    "    def set(self, value: Any) -> None:\n",
    "        self.value = value\n",
    "        for subscriber in self.subscribers: subscriber(self.value)\n",
    "\n",
    "    def update(self, fn: Callable[[Any], Any]) -> None:\n",
    "        self.set(fn(self.value))\n",
    "\n",
    "    def subscribe(self, subscriber: Callable[[Any], None]) -> Callable[[], None]:\n",
    "        self.subscribers.append(subscriber)\n",
    "        subscriber(self.value)\n",
    "        return lambda: self.subscribers.remove(subscriber)\n",
    "\n",
    "    def unsubscribe(self) -> None:\n",
    "        for unsub in self._unsubscribe: unsub()\n",
    "\n",
    "    def __enter__(self) -> Derived:\n",
    "        self._unsubscribe = [store.subscribe(self._set) for store in self.stores]\n",
    "        return self\n",
    "\n",
    "    def __exit__(self, exc_type, exc_value, traceback) -> None:\n",
    "        self.unsubscribe()\n",
    "\n",
    "    def __call__(self) -> Any:\n",
    "        return self.value\n",
    "\n",
    "    def __repr__(self) -> str:\n",
    "        return f\"{self.__class__.__name__}({self.stores!r}, {self.fn!r}, {self.initial_value!r})\"\n",
    "\n",
    "    def __str__(self) -> str: return str(self.value)\n",
    "\n",
    "export function derived<S extends Stores, T>(\n",
    "\tstores: S,\n",
    "\tfn: (values: StoresValues<S>, set: (value: T) => void) => Unsubscriber | void,\n",
    "\tinitial_value?: T\n",
    "): Readable<T>;\n",
    "\n",
    "/**\n",
    " * Derived value store by synchronizing one or more readable stores and\n",
    " * applying an aggregation function over its input values.\n",
    " *\n",
    " * @param stores - input stores\n",
    " * @param fn - function callback that aggregates the values\n",
    " * @param initial_value - initial value\n",
    " */\n",
    "export function derived<S extends Stores, T>(\n",
    "\tstores: S,\n",
    "\tfn: (values: StoresValues<S>) => T,\n",
    "\tinitial_value?: T\n",
    "): Readable<T>;\n",
    "\n",
    "/**\n",
    " * Derived value store by synchronizing one or more readable stores and\n",
    " * applying an aggregation function over its input values.\n",
    " *\n",
    " * @param stores - input stores\n",
    " * @param fn - function callback that aggregates the values\n",
    " */\n",
    "export function derived<S extends Stores, T>(\n",
    "\tstores: S,\n",
    "\tfn: (values: StoresValues<S>) => T\n",
    "): Readable<T>;\n",
    "\n",
    "export function derived<T>(stores: Stores, fn: Function, initial_value?: T): Readable<T> {\n",
    "\tconst single = !Array.isArray(stores);\n",
    "\tconst stores_array: Array<Readable<any>> = single\n",
    "\t\t? [stores as Readable<any>]\n",
    "\t\t: stores as Array<Readable<any>>;\n",
    "\n",
    "\tconst auto = fn.length < 2;\n",
    "\n",
    "\treturn readable(initial_value, (set) => {\n",
    "\t\tlet inited = false;\n",
    "\t\tconst values = [];\n",
    "\n",
    "\t\tlet pending = 0;\n",
    "\t\tlet cleanup = noop;\n",
    "\n",
    "\t\tconst sync = () => {\n",
    "\t\t\tif (pending) {\n",
    "\t\t\t\treturn;\n",
    "\t\t\t}\n",
    "\t\t\tcleanup();\n",
    "\t\t\tconst result = fn(single ? values[0] : values, set);\n",
    "\t\t\tif (auto) {\n",
    "\t\t\t\tset(result as T);\n",
    "\t\t\t} else {\n",
    "\t\t\t\tcleanup = is_function(result) ? result as Unsubscriber : noop;\n",
    "\t\t\t}\n",
    "\t\t};\n",
    "\n",
    "\t\tconst unsubscribers = stores_array.map((store, i) => subscribe(\n",
    "\t\t\tstore,\n",
    "\t\t\t(value) => {\n",
    "\t\t\t\tvalues[i] = value;\n",
    "\t\t\t\tpending &= ~(1 << i);\n",
    "\t\t\t\tif (inited) {\n",
    "\t\t\t\t\tsync();\n",
    "\t\t\t\t}\n",
    "\t\t\t},\n",
    "\t\t\t() => {\n",
    "\t\t\t\tpending |= (1 << i);\n",
    "\t\t\t})\n",
    "\t\t);\n",
    "\n",
    "\t\tinited = true;\n",
    "\t\tsync();\n",
    "\n",
    "\t\treturn function stop() {\n",
    "\t\t\trun_all(unsubscribers);\n",
    "\t\t\tcleanup();\n",
    "\t\t};\n",
    "\t});\n",
    "}\n",
    "\n",
    "/**\n",
    " * Get the current value from a store by subscribing and immediately unsubscribing.\n",
    " * @param store readable\n",
    " */\n",
    "export { get_store_value as get };"
   ]
  },
  {
   "cell_type": "code",
   "execution_count": null,
   "metadata": {},
   "outputs": [],
   "source": []
  },
  {
   "cell_type": "code",
   "execution_count": null,
   "metadata": {},
   "outputs": [],
   "source": []
  },
  {
   "cell_type": "code",
   "execution_count": null,
   "metadata": {},
   "outputs": [],
   "source": []
  },
  {
   "cell_type": "markdown",
   "metadata": {},
   "source": [
    "### Export"
   ]
  },
  {
   "cell_type": "code",
   "execution_count": null,
   "metadata": {},
   "outputs": [],
   "source": [
    "nbdev.nbdev_export()"
   ]
  },
  {
   "cell_type": "code",
   "execution_count": null,
   "metadata": {},
   "outputs": [],
   "source": [
    "# #| export\n",
    "\n",
    "# def writable(value: T) -> Writable[T]:\n",
    "#     \"\"\" Create a writable store with a given value that allows both updating and reading by subscription.\"\"\"\n",
    "\n",
    "    \n",
    "#     def set(new_value: T) -> None:\n",
    "#         nonlocal value\n",
    "#         if new_value != value: value = new_value\n",
    "#         for subscriber in subscriber_queue: subscriber(value)\n",
    "\n",
    "#     def update(fn: Updater[T]) -> None: set(fn(value))\n",
    "\n",
    "#     def subscribe(subscriber: Subscriber[T]) -> Unsubscriber:\n",
    "#         subscriber_queue.append(subscriber)\n",
    "#         subscriber(value)\n",
    "\n",
    "#         def unsubscribe() -> None:\n",
    "#             subscriber_queue.remove(subscriber)\n",
    "\n",
    "#         return unsubscribe\n",
    "\n",
    "#     ret = Writable() # type: ignore\n",
    "#     ret.set = set # type: ignore\n",
    "#     ret.update = update # type: ignore\n",
    "#     ret.subscribe = subscribe\n",
    "\n",
    "#     return ret"
   ]
  },
  {
   "cell_type": "code",
   "execution_count": null,
   "metadata": {},
   "outputs": [],
   "source": [
    "# #| export\n",
    "\n",
    "# def readable(value: T) -> Readable[T]:\n",
    "#     ret = Readable()\n",
    "#     ret.subscribe = writable(value).subscribe\n",
    "#     return ret"
   ]
  },
  {
   "cell_type": "code",
   "execution_count": null,
   "metadata": {},
   "outputs": [],
   "source": [
    "# class Store:\n",
    "#     def __init__(self, value):\n",
    "#         self.value = value\n",
    "#         self.subscribers = []\n",
    "#     def subscribe(self, subscriber):\n",
    "#         self.subscribers.append(subscriber)\n",
    "#         subscriber(self.value)\n",
    "#         return lambda: self.subscribers.remove(subscriber)\n",
    "#     def set(self, value):\n",
    "#         if value != self.value:\n",
    "#             self.value = value\n",
    "#             for subscriber in self.subscribers:\n",
    "#                 subscriber(value)\n",
    "#     def update(self, updater):\n",
    "#         self.set(updater(self.value))"
   ]
  }
 ],
 "metadata": {
  "kernelspec": {
   "display_name": "fmnist5",
   "language": "python",
   "name": "python3"
  },
  "language_info": {
   "codemirror_mode": {
    "name": "ipython",
    "version": 3
   },
   "file_extension": ".py",
   "mimetype": "text/x-python",
   "name": "python",
   "nbconvert_exporter": "python",
   "pygments_lexer": "ipython3",
   "version": "3.9.16"
  },
  "orig_nbformat": 4
 },
 "nbformat": 4,
 "nbformat_minor": 2
}
