{
 "cells": [
  {
   "cell_type": "code",
   "execution_count": null,
   "metadata": {},
   "outputs": [],
   "source": [
    "import nbdev"
   ]
  },
  {
   "cell_type": "code",
   "execution_count": null,
   "metadata": {},
   "outputs": [],
   "source": [
    "#| default_exp store"
   ]
  },
  {
   "cell_type": "code",
   "execution_count": null,
   "metadata": {},
   "outputs": [],
   "source": [
    "#|export\n",
    "from __future__ import annotations\n",
    "from typing import List, Callable, TypeVar,  Generic, Sequence"
   ]
  },
  {
   "attachments": {},
   "cell_type": "markdown",
   "metadata": {},
   "source": [
    "### Types"
   ]
  },
  {
   "cell_type": "code",
   "execution_count": null,
   "metadata": {},
   "outputs": [],
   "source": [
    "#| export\n",
    "\n",
    "T = TypeVar(\"T\")\n",
    "\n",
    "class Subscriber(Generic[T]):\n",
    "    def __call__(self, value: T) -> None:\n",
    "        ...\n",
    "class Unsubscriber(Generic[T]):\n",
    "    def __call__(self) -> None:\n",
    "        ...\n",
    "\n",
    "class Updater(Generic[T]):\n",
    "    def __call__(self, value: T) -> T:\n",
    "        ...\n",
    "\n",
    "class Readable(Generic[T]):\n",
    "    def subscribe(self, subscriber: Subscriber[T]) -> Unsubscriber:\n",
    "        ...\n",
    "\n",
    "class Writable(Readable, Generic[T]):\n",
    "    def set(self, value: T) -> None:\n",
    "        ...\n",
    "    def update(self, updater: Updater[T]) -> None:\n",
    "        ...\n",
    "\n",
    "subscriber_queue: List[Subscriber] = [] # callback list"
   ]
  },
  {
   "cell_type": "code",
   "execution_count": null,
   "metadata": {},
   "outputs": [],
   "source": [
    "#| export\n",
    "\n",
    "def writable(value: T) -> Writable[T]:\n",
    "    \"\"\" Create a writable store with a given value that allows both updating and reading by subscription.\"\"\"\n",
    "\n",
    "    def set(new_value: T) -> None:\n",
    "        nonlocal value\n",
    "        if new_value != value: value = new_value\n",
    "        for subscriber in subscriber_queue: subscriber(value)\n",
    "\n",
    "    def update(fn: Updater[T]) -> None: set(fn(value))\n",
    "\n",
    "    def subscribe(subscriber: Subscriber[T]) -> Unsubscriber:\n",
    "        subscriber_queue.append(subscriber)\n",
    "        subscriber(value)\n",
    "\n",
    "        def unsubscribe() -> None:\n",
    "            subscriber_queue.remove(subscriber)\n",
    "\n",
    "        return unsubscribe\n",
    "\n",
    "    ret = Writable() # type: ignore\n",
    "    ret.set = set # type: ignore\n",
    "    ret.update = update # type: ignore\n",
    "    ret.subscribe = subscribe\n",
    "\n",
    "    return ret"
   ]
  },
  {
   "cell_type": "code",
   "execution_count": null,
   "metadata": {},
   "outputs": [],
   "source": [
    "#| export\n",
    "\n",
    "def readable(value: T) -> Readable[T]:\n",
    "    ret = Readable()\n",
    "    ret.subscribe = writable(value).subscribe\n",
    "    return ret"
   ]
  },
  {
   "cell_type": "markdown",
   "metadata": {},
   "source": [
    "### Export"
   ]
  },
  {
   "cell_type": "code",
   "execution_count": null,
   "metadata": {},
   "outputs": [],
   "source": [
    "# nbdev.nbdev_export()"
   ]
  },
  {
   "cell_type": "code",
   "execution_count": null,
   "metadata": {},
   "outputs": [],
   "source": []
  }
 ],
 "metadata": {
  "kernelspec": {
   "display_name": "fmnist5",
   "language": "python",
   "name": "python3"
  },
  "language_info": {
   "codemirror_mode": {
    "name": "ipython",
    "version": 3
   },
   "file_extension": ".py",
   "mimetype": "text/x-python",
   "name": "python",
   "nbconvert_exporter": "python",
   "pygments_lexer": "ipython3",
   "version": "3.9.16"
  },
  "orig_nbformat": 4
 },
 "nbformat": 4,
 "nbformat_minor": 2
}
