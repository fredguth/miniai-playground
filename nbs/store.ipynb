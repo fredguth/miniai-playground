{
 "cells": [
  {
   "cell_type": "code",
   "execution_count": 1,
   "metadata": {},
   "outputs": [],
   "source": [
    "import nbdev"
   ]
  },
  {
   "cell_type": "code",
   "execution_count": 2,
   "metadata": {},
   "outputs": [],
   "source": [
    "#| default_exp store"
   ]
  },
  {
   "cell_type": "code",
   "execution_count": 1,
   "metadata": {},
   "outputs": [],
   "source": [
    "#|export\n",
    "from __future__ import annotations\n",
    "from typing import List, Callable, TypeVar,  Generic, Sequence, Union, Optional"
   ]
  },
  {
   "attachments": {},
   "cell_type": "markdown",
   "metadata": {},
   "source": [
    "### Types"
   ]
  },
  {
   "cell_type": "code",
   "execution_count": 12,
   "metadata": {},
   "outputs": [],
   "source": [
    "#| export\n",
    "\n",
    "T = TypeVar(\"T\")\n",
    "\n",
    "_Subscriber = Callable[[T], None]\n",
    "\n",
    "_Unsubscriber = Callable[[], None]\n",
    "\n",
    "_Updater = Callable[[T], T]\n",
    "\n",
    "class Subscriber:\n",
    "    def __init__(self, fn: _Subscriber, on_error: Optional[Callable], on_complete: Optional[Callable]) -> None:\n",
    "        self.fn = fn\n",
    "        self._on_error_handler = on_error\n",
    "        self._on_complete_handler = on_complete\n",
    "\n",
    "    def __call__(self, value: T) -> None:\n",
    "        self.fn(value)\n",
    "\n",
    "    def __eq__(self, other: _Subscriber) -> bool:\n",
    "        return self.fn == other.fn\n",
    "\n",
    "    def __hash__(self) -> int:\n",
    "        return hash(self.fn)\n",
    "    \n",
    "    def on_next(self, value: _T_in) -> None:\n",
    "        \"\"\"Notify the observer of a new element in the sequence.\"\"\"\n",
    "        if not self.is_stopped:\n",
    "            self._on_next_core(value)\n",
    "\n",
    "    def _on_next_core(self, value: _T_in) -> None:\n",
    "        \"\"\"For Subclassing purpose. This method is called by `on_next()`\n",
    "        method until the observer is stopped.\n",
    "        \"\"\"\n",
    "        self._handler_on_next(value)\n",
    "\n",
    "    def on_error(self, error: Exception) -> None:\n",
    "        \"\"\"Notify the observer that an exception has occurred.\n",
    "        Args:\n",
    "            error: The error that occurred.\n",
    "        \"\"\"\n",
    "\n",
    "        if not self.is_stopped:\n",
    "            self.is_stopped = True\n",
    "            self._on_error_core(error)\n",
    "\n",
    "class Readable(Generic[T]):\n",
    "    def __init__(self, value: T) -> None:\n",
    "        self.value = value\n",
    "        self.subscribers: List[_Subscriber] = [] # callback list\n",
    "\n",
    "    def __getattr__(self, name):\n",
    "        if name in self.__dict__: return self.__dict__[name]\n",
    "        return getattr(self.value, name)\n",
    "    \n",
    "    def subscribe(self, subscriber: _Subscriber) -> _Unsubscriber:\n",
    "        self.subscribers.append(subscriber)\n",
    "        subscriber(self.value)\n",
    "        return lambda: self.subscribers.remove(subscriber) \n",
    "\n",
    "class Writable(Readable, Generic[T]):\n",
    "    def set(self, new_value: T) -> None:\n",
    "        if new_value != self.value: self.value = new_value\n",
    "        for subscriber in self.subscriber_queue: subscriber(self.value)\n",
    "\n",
    "    def update(self, fn: _Updater[T]) -> None: self.set(fn(self.value))\n"
   ]
  },
  {
   "cell_type": "code",
   "execution_count": 8,
   "metadata": {},
   "outputs": [],
   "source": [
    "# #| export\n",
    "\n",
    "# def writable(value: T) -> Writable[T]:\n",
    "#     \"\"\" Create a writable store with a given value that allows both updating and reading by subscription.\"\"\"\n",
    "\n",
    "    \n",
    "#     def set(new_value: T) -> None:\n",
    "#         nonlocal value\n",
    "#         if new_value != value: value = new_value\n",
    "#         for subscriber in subscriber_queue: subscriber(value)\n",
    "\n",
    "#     def update(fn: Updater[T]) -> None: set(fn(value))\n",
    "\n",
    "#     def subscribe(subscriber: Subscriber[T]) -> Unsubscriber:\n",
    "#         subscriber_queue.append(subscriber)\n",
    "#         subscriber(value)\n",
    "\n",
    "#         def unsubscribe() -> None:\n",
    "#             subscriber_queue.remove(subscriber)\n",
    "\n",
    "#         return unsubscribe\n",
    "\n",
    "#     ret = Writable() # type: ignore\n",
    "#     ret.set = set # type: ignore\n",
    "#     ret.update = update # type: ignore\n",
    "#     ret.subscribe = subscribe\n",
    "\n",
    "#     return ret"
   ]
  },
  {
   "cell_type": "code",
   "execution_count": 6,
   "metadata": {},
   "outputs": [],
   "source": [
    "# #| export\n",
    "\n",
    "# def readable(value: T) -> Readable[T]:\n",
    "#     ret = Readable()\n",
    "#     ret.subscribe = writable(value).subscribe\n",
    "#     return ret"
   ]
  },
  {
   "cell_type": "markdown",
   "metadata": {},
   "source": [
    "### Export"
   ]
  },
  {
   "cell_type": "code",
   "execution_count": 10,
   "metadata": {},
   "outputs": [],
   "source": [
    "nbdev.nbdev_export()"
   ]
  },
  {
   "cell_type": "code",
   "execution_count": null,
   "metadata": {},
   "outputs": [],
   "source": [
    "class Store:\n",
    "    def __init__(self, value):\n",
    "        self.value = value\n",
    "        self.subscribers = []\n",
    "    def subscribe(self, subscriber):\n",
    "        self.subscribers.append(subscriber)\n",
    "        subscriber(self.value)\n",
    "        return lambda: self.subscribers.remove(subscriber)\n",
    "    def set(self, value):\n",
    "        if value != self.value:\n",
    "            self.value = value\n",
    "            for subscriber in self.subscribers:\n",
    "                subscriber(value)\n",
    "    def update(self, updater):\n",
    "        self.set(updater(self.value))"
   ]
  }
 ],
 "metadata": {
  "kernelspec": {
   "display_name": "fmnist5",
   "language": "python",
   "name": "python3"
  },
  "language_info": {
   "codemirror_mode": {
    "name": "ipython",
    "version": 3
   },
   "file_extension": ".py",
   "mimetype": "text/x-python",
   "name": "python",
   "nbconvert_exporter": "python",
   "pygments_lexer": "ipython3",
   "version": "3.9.16"
  },
  "orig_nbformat": 4
 },
 "nbformat": 4,
 "nbformat_minor": 2
}
